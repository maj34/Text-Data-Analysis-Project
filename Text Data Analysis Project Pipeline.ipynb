{
 "cells": [
  {
   "cell_type": "markdown",
   "id": "brutal-interview",
   "metadata": {},
   "source": [
    "# 신문사 성향 별 대한민국 정치흐름 파악"
   ]
  },
  {
   "cell_type": "markdown",
   "id": "equipped-luther",
   "metadata": {},
   "source": [
    "<font color='CC3D3D'>\n",
    "    \n",
    "[라이브러리 불러오기](#라이브러리-불러오기)  \n",
    "[데이터 수집](#데이터-수집)  \n",
    "[전처리](#전처리)  \n",
    "[단어 빈도](#단어-빈도)  \n",
    "[감성 분석](#감성-분석)  \n",
    "[주제 분석](#주제-분석)"
   ]
  },
  {
   "cell_type": "markdown",
   "id": "foreign-bennett",
   "metadata": {},
   "source": [
    "#  <font color ='CC3D3D'>라이브러리 불러오기"
   ]
  },
  {
   "cell_type": "code",
   "execution_count": 1,
   "id": "functional-polls",
   "metadata": {},
   "outputs": [],
   "source": [
    "import seaborn as sns\n",
    "import matplotlib.pylab as plt\n",
    "from matplotlib import font_manager, rc\n",
    "%matplotlib inline\n",
    "\n",
    "import platform\n",
    "your_os = platform.system()\n",
    "if your_os == 'Linux':\n",
    "    rc('font', family='NanumGothic')\n",
    "elif your_os == 'Windows':\n",
    "    ttf = \"c:/Windows/Fonts/malgun.ttf\"\n",
    "    font_name = font_manager.FontProperties(fname=ttf).get_name()\n",
    "    rc('font', family=font_name)\n",
    "elif your_os == 'Darwin':\n",
    "    rc('font', family='AppleGothic')\n",
    "rc('axes', unicode_minus=False)"
   ]
  },
  {
   "cell_type": "code",
   "execution_count": 3,
   "id": "julian-plaza",
   "metadata": {},
   "outputs": [],
   "source": [
    "from tqdm.notebook import tqdm\n",
    "import pandas as pd\n",
    "import numpy as np\n",
    "import requests\n",
    "import lxml.html\n",
    "import re\n",
    "import stanza\n",
    "import joblib\n",
    "import sklearn\n",
    "from wordcloud import WordCloud\n",
    "from sklearn.model_selection import train_test_split\n",
    "from sklearn.metrics import accuracy_score\n",
    "from selenium.webdriver import Chrome\n",
    "from sklearn.feature_extraction.text import CountVectorizer\n",
    "from sklearn.feature_extraction.text import TfidfVectorizer\n",
    "from sklearn.feature_extraction.text import TfidfTransformer\n",
    "from sklearn.decomposition import TruncatedSVD\n",
    "from sklearn.decomposition import NMF\n",
    "from gensim.models.ldamodel import LdaModel\n",
    "from gensim.models import CoherenceModel\n",
    "from gensim.matutils import Sparse2Corpus\n",
    "from gensim.corpora.dictionary import Dictionary\n",
    "from factor_analyzer.rotator import Rotator\n",
    "import pyLDAvis.gensim\n",
    "import tensorflow as tf\n",
    "import openpyxl\n",
    "import warnings\n",
    "warnings.filterwarnings('ignore', category=DeprecationWarning)"
   ]
  },
  {
   "cell_type": "markdown",
   "id": "subtle-missile",
   "metadata": {},
   "source": [
    "# <font color ='CC3D3D'>데이터 수집"
   ]
  },
  {
   "cell_type": "markdown",
   "id": "linear-syria",
   "metadata": {},
   "source": [
    "### 보수(우파) 언론사\n",
    "- 조선일보\n",
    "- 중앙일보\n",
    "- 동아일보\n",
    "- 한국경제"
   ]
  },
  {
   "cell_type": "markdown",
   "id": "large-afghanistan",
   "metadata": {},
   "source": [
    "### 1. 조선일보"
   ]
  },
  {
   "cell_type": "code",
   "execution_count": 12,
   "id": "maritime-given",
   "metadata": {},
   "outputs": [],
   "source": [
    "browser = Chrome()\n",
    "wb = openpyxl.Workbook()\n",
    "sheet = wb.active\n",
    "browser.get('https://www.chosun.com/opinion/editorial/')"
   ]
  },
  {
   "cell_type": "code",
   "execution_count": 13,
   "id": "verbal-promise",
   "metadata": {
    "scrolled": true
   },
   "outputs": [],
   "source": [
    "for i in browser.find_elements_by_css_selector('div#main div.story-feed div.story-card a.text__link span'):\n",
    "    sheet.append([f'{i.text}'])\n",
    "wb.save('chosun.xlsx')"
   ]
  },
  {
   "cell_type": "markdown",
   "id": "forced-bishop",
   "metadata": {},
   "source": [
    "### 2. 중앙일보"
   ]
  },
  {
   "cell_type": "code",
   "execution_count": 14,
   "id": "metropolitan-acceptance",
   "metadata": {},
   "outputs": [],
   "source": [
    "browser = Chrome()\n",
    "wb = openpyxl.Workbook()\n",
    "sheet = wb.active\n",
    "for page_num in range(1, 38):\n",
    "    browser.get(f'https://news.joins.com/find/list?page={page_num}&IsDuplicate=False&key=EditorialColumn&Display=%EC%82%AC%EC%84%A4&Keyword=%EC%82%AC%EC%84%A4&SourceGroupType=all&ServiceCode=20%2C34&SourceCode=1%2C61')\n",
    "    for i in browser.find_elements_by_css_selector('div#content div.list_basic li h2 a'):\n",
    "        sheet.append([f'{i.text}'])\n",
    "wb.save('JoongAng.xlsx')"
   ]
  },
  {
   "cell_type": "markdown",
   "id": "superb-begin",
   "metadata": {},
   "source": [
    "### 3. 동아일보"
   ]
  },
  {
   "cell_type": "code",
   "execution_count": 15,
   "id": "latin-adoption",
   "metadata": {
    "scrolled": true
   },
   "outputs": [],
   "source": [
    "browser = Chrome()\n",
    "wb = openpyxl.Workbook()\n",
    "sheet = wb.active\n",
    "for page_num in range(1, 1202, 20):\n",
    "    browser.get(f'https://www.donga.com/news/Series/70040100000001?p={page_num}&prod=news&ymd=&m=')\n",
    "    for i in browser.find_elements_by_css_selector('div#content a span.tit'):\n",
    "        sheet.append([f'{i.text}'])\n",
    "wb.save('donga.xlsx')"
   ]
  },
  {
   "cell_type": "markdown",
   "id": "hairy-spyware",
   "metadata": {},
   "source": [
    "### 4. 한국경제"
   ]
  },
  {
   "cell_type": "code",
   "execution_count": 16,
   "id": "corporate-chick",
   "metadata": {},
   "outputs": [],
   "source": [
    "browser = Chrome()\n",
    "wb = openpyxl.Workbook()\n",
    "sheet = wb.active\n",
    "for page_num in range(1, 62):\n",
    "    browser.get(f'https://www.hankyung.com/opinion/0001?page={page_num}')\n",
    "    for i in browser.find_elements_by_css_selector('div#container li h3.tit a'):\n",
    "        sheet.append([f'{i.text}'])\n",
    "wb.save('hanguk.xlsx')"
   ]
  },
  {
   "cell_type": "markdown",
   "id": "molecular-internship",
   "metadata": {},
   "source": [
    "### 좌파(진보) 언론사\n",
    "- 한겨례\n",
    "- 프레시안\n",
    "- 경향신문\n",
    "- 머니투데이\n",
    "- 이데일리"
   ]
  },
  {
   "cell_type": "markdown",
   "id": "green-portuguese",
   "metadata": {},
   "source": [
    "### 1. 한겨례"
   ]
  },
  {
   "cell_type": "code",
   "execution_count": 5,
   "id": "adverse-trail",
   "metadata": {},
   "outputs": [],
   "source": [
    "browser = Chrome()\n",
    "wb = openpyxl.Workbook()\n",
    "sheet = wb.active\n",
    "for page_num in range(1, 82):\n",
    "    browser.get(f'http://www.hani.co.kr/arti/opinion/editorial/list{page_num}.html')\n",
    "    for i in browser.find_elements_by_css_selector('div#section-left-scroll-in div.section-list-area div h4 a'):\n",
    "        sheet.append([f'{i.text}'])\n",
    "wb.save('Hangye.xlsx')"
   ]
  },
  {
   "cell_type": "markdown",
   "id": "appropriate-truth",
   "metadata": {},
   "source": [
    "### 2. 프레시안"
   ]
  },
  {
   "cell_type": "code",
   "execution_count": 6,
   "id": "honest-absolute",
   "metadata": {},
   "outputs": [],
   "source": [
    "browser = Chrome()\n",
    "wb = openpyxl.Workbook()\n",
    "sheet = wb.active\n",
    "for page_num in range(1, 55):\n",
    "    browser.get(f'https://m.pressian.com/m/pages/opinion-column?page={page_num}')\n",
    "    for i in browser.find_elements_by_css_selector('#container div div.arl_026 ul li div.box p a'):\n",
    "        sheet.append([f'{i.text}'])\n",
    "wb.save('Presian.xlsx')"
   ]
  },
  {
   "cell_type": "markdown",
   "id": "warming-doctrine",
   "metadata": {},
   "source": [
    "### 3. 경향신문"
   ]
  },
  {
   "cell_type": "code",
   "execution_count": 3,
   "id": "endangered-boutique",
   "metadata": {},
   "outputs": [],
   "source": [
    "browser = Chrome()\n",
    "wb = openpyxl.Workbook()\n",
    "sheet = wb.active\n",
    "browser.get('https://m.khan.co.kr/list.html?type=opinion')"
   ]
  },
  {
   "cell_type": "code",
   "execution_count": 4,
   "id": "lonely-buyer",
   "metadata": {},
   "outputs": [],
   "source": [
    "i=0\n",
    "while (i<=582):\n",
    "    try :\n",
    "        browser.find_element_by_css_selector('button.link_corp.btn_more').click()\n",
    "        i+=1\n",
    "    except:\n",
    "        pass "
   ]
  },
  {
   "cell_type": "code",
   "execution_count": 5,
   "id": "searching-storm",
   "metadata": {
    "scrolled": false
   },
   "outputs": [],
   "source": [
    "wb = openpyxl.Workbook()\n",
    "sheet = wb.active\n",
    "con = browser.find_elements_by_css_selector('ul#itemsBody.list_df li')\n",
    "\n",
    "for i in range(len(con)):\n",
    "    try: \n",
    "        if con[i].find_element_by_css_selector(\"#itemsBody li a div.cont_thumb em\").text == '사설':\n",
    "            title = con[i].find_element_by_css_selector(\"#itemsBody li a div.cont_thumb strong\")\n",
    "            sheet.append([f'{title.text}'])\n",
    "    except:\n",
    "        pass\n",
    "    \n",
    "wb.save('Kyunghyang.xlsx')"
   ]
  },
  {
   "cell_type": "markdown",
   "id": "polar-america",
   "metadata": {},
   "source": [
    "### 4. 머니투데이"
   ]
  },
  {
   "cell_type": "code",
   "execution_count": 4,
   "id": "ordered-mainland",
   "metadata": {},
   "outputs": [],
   "source": [
    "browser = Chrome()\n",
    "wb = openpyxl.Workbook()\n",
    "sheet = wb.active\n",
    "for page_num in range(1, 16):\n",
    "    browser.get(f'https://news.mt.co.kr/column/opinion_inside.html?category=03&page={page_num}')\n",
    "    for i in browser.find_elements_by_css_selector('#content ul.conlist_p1.mgt20 li div strong a'):\n",
    "        sheet.append([f'{i.text}'])\n",
    "wb.save('moneytoday.xlsx')"
   ]
  },
  {
   "cell_type": "markdown",
   "id": "sharing-scotland",
   "metadata": {},
   "source": [
    "### 5. 이데일리"
   ]
  },
  {
   "cell_type": "code",
   "execution_count": 10,
   "id": "bronze-lease",
   "metadata": {},
   "outputs": [],
   "source": [
    "browser = Chrome()\n",
    "wb = openpyxl.Workbook()\n",
    "sheet = wb.active\n",
    "browser.get('https://www.edaily.co.kr/opinion/editorial')"
   ]
  },
  {
   "cell_type": "code",
   "execution_count": 11,
   "id": "novel-cinema",
   "metadata": {
    "scrolled": true
   },
   "outputs": [],
   "source": [
    "for i in browser.find_elements_by_css_selector('#newslist > li > dl > dd:nth-child(2) > span'):\n",
    "    sheet.append([f'{i.text}'])\n",
    "wb.save('edaily.xlsx')"
   ]
  },
  {
   "cell_type": "markdown",
   "id": "exempt-disco",
   "metadata": {},
   "source": [
    "# <font color ='CC3D3D'>전처리"
   ]
  },
  {
   "cell_type": "code",
   "execution_count": 164,
   "id": "lesser-withdrawal",
   "metadata": {},
   "outputs": [],
   "source": [
    "chosun = pd.read_excel('chosun.xlsx', names=['기사'], header=None)\n",
    "JoongAng = pd.read_excel('JoongAng.xlsx', names=['기사'], header=None)\n",
    "donga = pd.read_excel('donga.xlsx', names=['기사'], header=None)\n",
    "hanguk = pd.read_excel('hanguk.xlsx', names=['기사'], header=None)\n",
    "Hangye = pd.read_excel('Hangye.xlsx', names=['기사'], header=None)\n",
    "Presian = pd.read_excel('Presian.xlsx', names=['기사'], header=None)\n",
    "Kyunghyang = pd.read_excel('Kyunghyang.xlsx', names=['기사'], header=None)\n",
    "moneytoday = pd.read_excel('moneytoday.xlsx', names=['기사'], header=None)\n",
    "edaily = pd.read_excel('edaily.xlsx', names=['기사'], header=None)"
   ]
  },
  {
   "cell_type": "code",
   "execution_count": 165,
   "id": "stainless-fundamentals",
   "metadata": {},
   "outputs": [],
   "source": [
    "chosun['신문사'] = '조선일보'\n",
    "JoongAng['신문사'] = '중앙일보'\n",
    "donga['신문사'] = '동아일보'\n",
    "hanguk['신문사'] = '한국경제'\n",
    "Hangye['신문사'] = '한겨례'\n",
    "Presian['신문사'] = '프레시안'\n",
    "Kyunghyang['신문사'] = '경향신문'\n",
    "moneytoday['신문사'] = '머니투데이'\n",
    "edaily['신문사'] = '이데일리'"
   ]
  },
  {
   "cell_type": "code",
   "execution_count": 166,
   "id": "green-organic",
   "metadata": {},
   "outputs": [],
   "source": [
    "# 데이터 라벨링\n",
    "chosun['성향'], JoongAng['성향'], donga['성향'], hanguk['성향'] = 1,1,1,1  # 보수\n",
    "Hangye['성향'], Presian['성향'], Kyunghyang['성향'], moneytoday['성향'], edaily['성향'] = 0,0,0,0,0  # 진보"
   ]
  },
  {
   "cell_type": "code",
   "execution_count": 169,
   "id": "egyptian-walnut",
   "metadata": {
    "scrolled": false
   },
   "outputs": [],
   "source": [
    "df = pd.concat([chosun, JoongAng, donga, hanguk, Hangye, Presian, Kyunghyang, moneytoday, edaily], axis=0)\n",
    "df = df[['신문사', '기사', '성향']]\n",
    "df = sklearn.utils.shuffle(df)"
   ]
  },
  {
   "cell_type": "code",
   "execution_count": 173,
   "id": "lyric-attendance",
   "metadata": {
    "scrolled": false
   },
   "outputs": [],
   "source": [
    "# 불용어 처리\n",
    "stop_words = []\n",
    "for i in df['기사']:\n",
    "    stop_words.append(i.replace('[사설] ', '').replace('[사설]', ''))\n",
    "df['기사'] = stop_words"
   ]
  },
  {
   "cell_type": "code",
   "execution_count": 174,
   "id": "direct-canon",
   "metadata": {
    "scrolled": true
   },
   "outputs": [
    {
     "data": {
      "text/html": [
       "<div>\n",
       "<style scoped>\n",
       "    .dataframe tbody tr th:only-of-type {\n",
       "        vertical-align: middle;\n",
       "    }\n",
       "\n",
       "    .dataframe tbody tr th {\n",
       "        vertical-align: top;\n",
       "    }\n",
       "\n",
       "    .dataframe thead th {\n",
       "        text-align: right;\n",
       "    }\n",
       "</style>\n",
       "<table border=\"1\" class=\"dataframe\">\n",
       "  <thead>\n",
       "    <tr style=\"text-align: right;\">\n",
       "      <th></th>\n",
       "      <th>신문사</th>\n",
       "      <th>기사</th>\n",
       "      <th>성향</th>\n",
       "    </tr>\n",
       "  </thead>\n",
       "  <tbody>\n",
       "    <tr>\n",
       "      <th>0</th>\n",
       "      <td>조선일보</td>\n",
       "      <td>폭우 피해도 4대강 사업 탓, 전 정권 핑계 댈 건가</td>\n",
       "      <td>1</td>\n",
       "    </tr>\n",
       "    <tr>\n",
       "      <th>1</th>\n",
       "      <td>이데일리</td>\n",
       "      <td>대한민국이 ''성범죄 조장국''으로 눈총받는 까닭</td>\n",
       "      <td>0</td>\n",
       "    </tr>\n",
       "    <tr>\n",
       "      <th>2</th>\n",
       "      <td>동아일보</td>\n",
       "      <td>이란 억류 선원 석방, 진짜 난제는 지금부터다</td>\n",
       "      <td>1</td>\n",
       "    </tr>\n",
       "    <tr>\n",
       "      <th>3</th>\n",
       "      <td>동아일보</td>\n",
       "      <td>與 “全 공직자 재산등록 검토”… 展示용 과잉대응</td>\n",
       "      <td>1</td>\n",
       "    </tr>\n",
       "    <tr>\n",
       "      <th>4</th>\n",
       "      <td>경향신문</td>\n",
       "      <td>코로나가 드리운 또 하나의 그늘, 사교육비 양극화</td>\n",
       "      <td>0</td>\n",
       "    </tr>\n",
       "    <tr>\n",
       "      <th>...</th>\n",
       "      <td>...</td>\n",
       "      <td>...</td>\n",
       "      <td>...</td>\n",
       "    </tr>\n",
       "    <tr>\n",
       "      <th>8451</th>\n",
       "      <td>동아일보</td>\n",
       "      <td>한국당 黃대표-텃밭 의원들, 기득권 집착해 공멸하려 하나</td>\n",
       "      <td>1</td>\n",
       "    </tr>\n",
       "    <tr>\n",
       "      <th>8452</th>\n",
       "      <td>머니투데이</td>\n",
       "      <td>총선 1주일, 한가한 정부</td>\n",
       "      <td>0</td>\n",
       "    </tr>\n",
       "    <tr>\n",
       "      <th>8453</th>\n",
       "      <td>조선일보</td>\n",
       "      <td>직업·소득 없던 김홍걸의 100억 재산, 어디서 나왔나</td>\n",
       "      <td>1</td>\n",
       "    </tr>\n",
       "    <tr>\n",
       "      <th>8454</th>\n",
       "      <td>프레시안</td>\n",
       "      <td>혼돈 세상과 새로운 표준, 코로나가 나눌 4가지의 계급</td>\n",
       "      <td>0</td>\n",
       "    </tr>\n",
       "    <tr>\n",
       "      <th>8455</th>\n",
       "      <td>동아일보</td>\n",
       "      <td>후보들 이어 당 지도부까지 막말… ‘깜깜이 선거’ 노린 구태 심판해야</td>\n",
       "      <td>1</td>\n",
       "    </tr>\n",
       "  </tbody>\n",
       "</table>\n",
       "<p>8456 rows × 3 columns</p>\n",
       "</div>"
      ],
      "text/plain": [
       "        신문사                                      기사  성향\n",
       "0      조선일보           폭우 피해도 4대강 사업 탓, 전 정권 핑계 댈 건가   1\n",
       "1      이데일리             대한민국이 ''성범죄 조장국''으로 눈총받는 까닭   0\n",
       "2      동아일보               이란 억류 선원 석방, 진짜 난제는 지금부터다   1\n",
       "3      동아일보             與 “全 공직자 재산등록 검토”… 展示용 과잉대응   1\n",
       "4      경향신문             코로나가 드리운 또 하나의 그늘, 사교육비 양극화   0\n",
       "...     ...                                     ...  ..\n",
       "8451   동아일보         한국당 黃대표-텃밭 의원들, 기득권 집착해 공멸하려 하나   1\n",
       "8452  머니투데이                          총선 1주일, 한가한 정부   0\n",
       "8453   조선일보          직업·소득 없던 김홍걸의 100억 재산, 어디서 나왔나   1\n",
       "8454   프레시안          혼돈 세상과 새로운 표준, 코로나가 나눌 4가지의 계급   0\n",
       "8455   동아일보  후보들 이어 당 지도부까지 막말… ‘깜깜이 선거’ 노린 구태 심판해야   1\n",
       "\n",
       "[8456 rows x 3 columns]"
      ]
     },
     "execution_count": 174,
     "metadata": {},
     "output_type": "execute_result"
    }
   ],
   "source": [
    "df.reset_index(drop=True, inplace=True) ;df"
   ]
  },
  {
   "cell_type": "code",
   "execution_count": 175,
   "id": "offshore-walker",
   "metadata": {
    "scrolled": false
   },
   "outputs": [
    {
     "data": {
      "image/png": "[encoded data removed]",
      "text/plain": [
       "<Figure size 576x432 with 1 Axes>"
      ]
     },
     "metadata": {
      "needs_background": "light"
     },
     "output_type": "display_data"
    }
   ],
   "source": [
    "p = df.groupby('신문사')['기사'].count()\n",
    "\n",
    "plt.figure(figsize=(8, 6))\n",
    "plt.plot(p, marker=\"o\", c=\"orange\", lw=3, ms=8, mfc=\"w\", mew=3)\n",
    "\n",
    "plt.text(x=0.2, y=1349, s=1349, fontsize=15)\n",
    "plt.text(x=1.1, y=1225, s=1205, fontsize=15)\n",
    "plt.text(x=2.2, y=370, s=370, fontsize=15)\n",
    "plt.text(x=3.2, y=666, s=646, fontsize=15)\n",
    "plt.text(x=4.1, y=1215, s=1195, fontsize=15)\n",
    "plt.text(x=5.1, y=759, s=739, fontsize=15)\n",
    "plt.text(x=6.2, y=553, s=533, fontsize=15)\n",
    "plt.text(x=7.1, y=1232, s=1212, fontsize=15)\n",
    "plt.text(x=8.1, y=1227, s=1207, fontsize=15)\n",
    "\n",
    "\n",
    "plt.title(\"신문사 별 사설 발행 부수\")\n",
    "plt.show()"
   ]
  },
  {
   "cell_type": "code",
   "execution_count": 7,
   "id": "fitting-works",
   "metadata": {
    "collapsed": true
   },
   "outputs": [
    {
     "name": "stderr",
     "output_type": "stream",
     "text": [
      "2021-04-29 18:26:05 INFO: Loading these models for language: ko (Korean):\n",
      "=======================\n",
      "| Processor | Package |\n",
      "-----------------------\n",
      "| tokenize  | kaist   |\n",
      "| pos       | kaist   |\n",
      "| lemma     | kaist   |\n",
      "| depparse  | kaist   |\n",
      "=======================\n",
      "\n",
      "2021-04-29 18:26:06 INFO: Use device: gpu\n",
      "2021-04-29 18:26:06 INFO: Loading: tokenize\n",
      "2021-04-29 18:26:08 INFO: Loading: pos\n",
      "2021-04-29 18:26:08 INFO: Loading: lemma\n",
      "2021-04-29 18:26:08 INFO: Loading: depparse\n",
      "2021-04-29 18:26:09 INFO: Done loading processors!\n"
     ]
    }
   ],
   "source": [
    "nlp = stanza.Pipeline('ko')"
   ]
  },
  {
   "cell_type": "code",
   "execution_count": 72,
   "id": "purple-naples",
   "metadata": {},
   "outputs": [],
   "source": [
    "def extract_nouns(text):\n",
    "    doc = nlp(text)\n",
    "    for sentence in doc.sentences:\n",
    "        for word in sentence.words:\n",
    "            lemma = word.lemma.split('+')\n",
    "            xpos = word.xpos.split('+')\n",
    "            for lem, pos in zip(lemma, xpos):\n",
    "                if pos.startswith('n'):\n",
    "                    yield lem"
   ]
  },
  {
   "cell_type": "code",
   "execution_count": 120,
   "id": "complimentary-danger",
   "metadata": {},
   "outputs": [],
   "source": [
    "stop_words = ['정부', '국민', '대통령', '것', '만', '년', '수', '때', '일', '차', '1', '2', '3', '코로', '당코로', '오동희']\n",
    "cv = CountVectorizer(max_features=2000, tokenizer=extract_nouns, stop_words=stop_words)"
   ]
  },
  {
   "cell_type": "markdown",
   "id": "least-notion",
   "metadata": {},
   "source": [
    "# <font color ='CC3D3D'>단어 빈도"
   ]
  },
  {
   "cell_type": "markdown",
   "id": "dress-removal",
   "metadata": {},
   "source": [
    "- 전체신문사 단어구름"
   ]
  },
  {
   "cell_type": "code",
   "execution_count": 93,
   "id": "numeric-chain",
   "metadata": {},
   "outputs": [
    {
     "name": "stderr",
     "output_type": "stream",
     "text": [
      "C:\\Users\\Administrator\\anaconda3\\lib\\site-packages\\sklearn\\feature_extraction\\text.py:388: UserWarning: Your stop_words may be inconsistent with your preprocessing. Tokenizing the stop words generated tokens ['당코', '코'] not in stop_words.\n",
      "  warnings.warn('Your stop_words may be inconsistent with '\n"
     ]
    }
   ],
   "source": [
    "tdm1 = cv.fit_transform(df.loc[:,'기사'])"
   ]
  },
  {
   "cell_type": "code",
   "execution_count": 94,
   "id": "hired-carrier",
   "metadata": {
    "scrolled": true
   },
   "outputs": [],
   "source": [
    "word_count = pd.DataFrame({\n",
    "    '단어': cv.get_feature_names(),\n",
    "    '빈도': tdm1.sum(axis=0).flat\n",
    "})\n",
    "\n",
    "word_count.sort_values('빈도', ascending=False)\n",
    "count_dic = word_count.set_index('단어')['빈도'].to_dict()"
   ]
  },
  {
   "cell_type": "code",
   "execution_count": 95,
   "id": "bearing-tokyo",
   "metadata": {},
   "outputs": [
    {
     "data": {
      "image/png": "[encoded data removed]",
      "text/plain": [
       "<PIL.Image.Image image mode=RGB size=400x300 at 0x2344EC65160>"
      ]
     },
     "execution_count": 95,
     "metadata": {},
     "output_type": "execute_result"
    }
   ],
   "source": [
    "wc = WordCloud(font_path='C:/Windows/Fonts/NanumGothic.ttf',\n",
    "               background_color='white',\n",
    "               max_words=100,\n",
    "               width=400, height=300)\n",
    "cloud = wc.generate_from_frequencies(count_dic)\n",
    "cloud.to_image()"
   ]
  },
  {
   "cell_type": "code",
   "execution_count": 96,
   "id": "identified-resistance",
   "metadata": {
    "scrolled": true
   },
   "outputs": [
    {
     "data": {
      "text/html": [
       "<div>\n",
       "<style scoped>\n",
       "    .dataframe tbody tr th:only-of-type {\n",
       "        vertical-align: middle;\n",
       "    }\n",
       "\n",
       "    .dataframe tbody tr th {\n",
       "        vertical-align: top;\n",
       "    }\n",
       "\n",
       "    .dataframe thead th {\n",
       "        text-align: right;\n",
       "    }\n",
       "</style>\n",
       "<table border=\"1\" class=\"dataframe\">\n",
       "  <thead>\n",
       "    <tr style=\"text-align: right;\">\n",
       "      <th></th>\n",
       "      <th>단어</th>\n",
       "      <th>빈도</th>\n",
       "    </tr>\n",
       "  </thead>\n",
       "  <tbody>\n",
       "    <tr>\n",
       "      <th>729</th>\n",
       "      <td>방역</td>\n",
       "      <td>212</td>\n",
       "    </tr>\n",
       "    <tr>\n",
       "      <th>539</th>\n",
       "      <td>대책</td>\n",
       "      <td>208</td>\n",
       "    </tr>\n",
       "    <tr>\n",
       "      <th>1033</th>\n",
       "      <td>수사</td>\n",
       "      <td>180</td>\n",
       "    </tr>\n",
       "    <tr>\n",
       "      <th>478</th>\n",
       "      <td>당</td>\n",
       "      <td>177</td>\n",
       "    </tr>\n",
       "    <tr>\n",
       "      <th>386</th>\n",
       "      <td>기업</td>\n",
       "      <td>176</td>\n",
       "    </tr>\n",
       "    <tr>\n",
       "      <th>180</th>\n",
       "      <td>검찰</td>\n",
       "      <td>163</td>\n",
       "    </tr>\n",
       "    <tr>\n",
       "      <th>1255</th>\n",
       "      <td>위기</td>\n",
       "      <td>158</td>\n",
       "    </tr>\n",
       "    <tr>\n",
       "      <th>1511</th>\n",
       "      <td>정권</td>\n",
       "      <td>153</td>\n",
       "    </tr>\n",
       "    <tr>\n",
       "      <th>745</th>\n",
       "      <td>백신</td>\n",
       "      <td>151</td>\n",
       "    </tr>\n",
       "    <tr>\n",
       "      <th>1888</th>\n",
       "      <td>한국</td>\n",
       "      <td>150</td>\n",
       "    </tr>\n",
       "    <tr>\n",
       "      <th>1765</th>\n",
       "      <td>코로나</td>\n",
       "      <td>144</td>\n",
       "    </tr>\n",
       "    <tr>\n",
       "      <th>72</th>\n",
       "      <td>文</td>\n",
       "      <td>141</td>\n",
       "    </tr>\n",
       "    <tr>\n",
       "      <th>204</th>\n",
       "      <td>경제</td>\n",
       "      <td>140</td>\n",
       "    </tr>\n",
       "    <tr>\n",
       "      <th>942</th>\n",
       "      <td>선거</td>\n",
       "      <td>138</td>\n",
       "    </tr>\n",
       "    <tr>\n",
       "      <th>327</th>\n",
       "      <td>국회</td>\n",
       "      <td>136</td>\n",
       "    </tr>\n",
       "    <tr>\n",
       "      <th>84</th>\n",
       "      <td>與</td>\n",
       "      <td>136</td>\n",
       "    </tr>\n",
       "    <tr>\n",
       "      <th>1528</th>\n",
       "      <td>정책</td>\n",
       "      <td>132</td>\n",
       "    </tr>\n",
       "    <tr>\n",
       "      <th>1872</th>\n",
       "      <td>필요</td>\n",
       "      <td>125</td>\n",
       "    </tr>\n",
       "    <tr>\n",
       "      <th>1316</th>\n",
       "      <td>의혹</td>\n",
       "      <td>124</td>\n",
       "    </tr>\n",
       "    <tr>\n",
       "      <th>809</th>\n",
       "      <td>부동산</td>\n",
       "      <td>119</td>\n",
       "    </tr>\n",
       "    <tr>\n",
       "      <th>1435</th>\n",
       "      <td>재난</td>\n",
       "      <td>118</td>\n",
       "    </tr>\n",
       "    <tr>\n",
       "      <th>1529</th>\n",
       "      <td>정치</td>\n",
       "      <td>117</td>\n",
       "    </tr>\n",
       "    <tr>\n",
       "      <th>1884</th>\n",
       "      <td>한</td>\n",
       "      <td>116</td>\n",
       "    </tr>\n",
       "    <tr>\n",
       "      <th>25</th>\n",
       "      <td>4</td>\n",
       "      <td>113</td>\n",
       "    </tr>\n",
       "    <tr>\n",
       "      <th>1071</th>\n",
       "      <td>시장</td>\n",
       "      <td>112</td>\n",
       "    </tr>\n",
       "    <tr>\n",
       "      <th>343</th>\n",
       "      <td>규제</td>\n",
       "      <td>112</td>\n",
       "    </tr>\n",
       "    <tr>\n",
       "      <th>1320</th>\n",
       "      <td>이</td>\n",
       "      <td>111</td>\n",
       "    </tr>\n",
       "    <tr>\n",
       "      <th>1166</th>\n",
       "      <td>여당</td>\n",
       "      <td>109</td>\n",
       "    </tr>\n",
       "    <tr>\n",
       "      <th>1423</th>\n",
       "      <td>장관</td>\n",
       "      <td>107</td>\n",
       "    </tr>\n",
       "    <tr>\n",
       "      <th>828</th>\n",
       "      <td>북한</td>\n",
       "      <td>103</td>\n",
       "    </tr>\n",
       "  </tbody>\n",
       "</table>\n",
       "</div>"
      ],
      "text/plain": [
       "       단어   빈도\n",
       "729    방역  212\n",
       "539    대책  208\n",
       "1033   수사  180\n",
       "478     당  177\n",
       "386    기업  176\n",
       "180    검찰  163\n",
       "1255   위기  158\n",
       "1511   정권  153\n",
       "745    백신  151\n",
       "1888   한국  150\n",
       "1765  코로나  144\n",
       "72      文  141\n",
       "204    경제  140\n",
       "942    선거  138\n",
       "327    국회  136\n",
       "84      與  136\n",
       "1528   정책  132\n",
       "1872   필요  125\n",
       "1316   의혹  124\n",
       "809   부동산  119\n",
       "1435   재난  118\n",
       "1529   정치  117\n",
       "1884    한  116\n",
       "25      4  113\n",
       "1071   시장  112\n",
       "343    규제  112\n",
       "1320    이  111\n",
       "1166   여당  109\n",
       "1423   장관  107\n",
       "828    북한  103"
      ]
     },
     "execution_count": 96,
     "metadata": {},
     "output_type": "execute_result"
    }
   ],
   "source": [
    "word_count.sort_values('빈도', ascending=False).head(30)"
   ]
  },
  {
   "cell_type": "markdown",
   "id": "nominated-contest",
   "metadata": {},
   "source": [
    "- 보수 신문사 단어구름"
   ]
  },
  {
   "cell_type": "code",
   "execution_count": 97,
   "id": "single-feelings",
   "metadata": {},
   "outputs": [],
   "source": [
    "right = df[df['성향']==1]\n",
    "right.reset_index(drop=True, inplace=True)"
   ]
  },
  {
   "cell_type": "code",
   "execution_count": 98,
   "id": "physical-favor",
   "metadata": {},
   "outputs": [],
   "source": [
    "tdm2 = cv.fit_transform(right.loc[:,'기사'])"
   ]
  },
  {
   "cell_type": "code",
   "execution_count": 99,
   "id": "impossible-functionality",
   "metadata": {},
   "outputs": [],
   "source": [
    "word_count = pd.DataFrame({\n",
    "    '단어': cv.get_feature_names(),\n",
    "    '빈도': tdm2.sum(axis=0).flat\n",
    "})\n",
    "\n",
    "word_count.sort_values('빈도', ascending=False)\n",
    "count_dic = word_count.set_index('단어')['빈도'].to_dict()"
   ]
  },
  {
   "cell_type": "code",
   "execution_count": 100,
   "id": "political-tamil",
   "metadata": {},
   "outputs": [
    {
     "data": {
      "image/png": "[encoded data removed]",
      "text/plain": [
       "<PIL.Image.Image image mode=RGB size=400x300 at 0x23381150C70>"
      ]
     },
     "execution_count": 100,
     "metadata": {},
     "output_type": "execute_result"
    }
   ],
   "source": [
    "wc = WordCloud(font_path='C:/Windows/Fonts/NanumGothic.ttf',\n",
    "               background_color='white',\n",
    "               max_words=100,\n",
    "               width=400, height=300)\n",
    "cloud = wc.generate_from_frequencies(count_dic)\n",
    "cloud.to_image()"
   ]
  },
  {
   "cell_type": "code",
   "execution_count": 101,
   "id": "uniform-storage",
   "metadata": {
    "scrolled": true
   },
   "outputs": [
    {
     "data": {
      "text/html": [
       "<div>\n",
       "<style scoped>\n",
       "    .dataframe tbody tr th:only-of-type {\n",
       "        vertical-align: middle;\n",
       "    }\n",
       "\n",
       "    .dataframe tbody tr th {\n",
       "        vertical-align: top;\n",
       "    }\n",
       "\n",
       "    .dataframe thead th {\n",
       "        text-align: right;\n",
       "    }\n",
       "</style>\n",
       "<table border=\"1\" class=\"dataframe\">\n",
       "  <thead>\n",
       "    <tr style=\"text-align: right;\">\n",
       "      <th></th>\n",
       "      <th>단어</th>\n",
       "      <th>빈도</th>\n",
       "    </tr>\n",
       "  </thead>\n",
       "  <tbody>\n",
       "    <tr>\n",
       "      <th>86</th>\n",
       "      <td>文</td>\n",
       "      <td>139</td>\n",
       "    </tr>\n",
       "    <tr>\n",
       "      <th>1502</th>\n",
       "      <td>정권</td>\n",
       "      <td>139</td>\n",
       "    </tr>\n",
       "    <tr>\n",
       "      <th>103</th>\n",
       "      <td>與</td>\n",
       "      <td>136</td>\n",
       "    </tr>\n",
       "    <tr>\n",
       "      <th>393</th>\n",
       "      <td>기업</td>\n",
       "      <td>135</td>\n",
       "    </tr>\n",
       "    <tr>\n",
       "      <th>1057</th>\n",
       "      <td>수사</td>\n",
       "      <td>108</td>\n",
       "    </tr>\n",
       "    <tr>\n",
       "      <th>749</th>\n",
       "      <td>방역</td>\n",
       "      <td>103</td>\n",
       "    </tr>\n",
       "    <tr>\n",
       "      <th>545</th>\n",
       "      <td>대책</td>\n",
       "      <td>102</td>\n",
       "    </tr>\n",
       "    <tr>\n",
       "      <th>963</th>\n",
       "      <td>선거</td>\n",
       "      <td>98</td>\n",
       "    </tr>\n",
       "    <tr>\n",
       "      <th>230</th>\n",
       "      <td>경제</td>\n",
       "      <td>97</td>\n",
       "    </tr>\n",
       "    <tr>\n",
       "      <th>75</th>\n",
       "      <td>北</td>\n",
       "      <td>95</td>\n",
       "    </tr>\n",
       "    <tr>\n",
       "      <th>1884</th>\n",
       "      <td>한국</td>\n",
       "      <td>94</td>\n",
       "    </tr>\n",
       "    <tr>\n",
       "      <th>1521</th>\n",
       "      <td>정책</td>\n",
       "      <td>89</td>\n",
       "    </tr>\n",
       "    <tr>\n",
       "      <th>198</th>\n",
       "      <td>검찰</td>\n",
       "      <td>85</td>\n",
       "    </tr>\n",
       "    <tr>\n",
       "      <th>819</th>\n",
       "      <td>부동산</td>\n",
       "      <td>85</td>\n",
       "    </tr>\n",
       "    <tr>\n",
       "      <th>1262</th>\n",
       "      <td>위기</td>\n",
       "      <td>84</td>\n",
       "    </tr>\n",
       "    <tr>\n",
       "      <th>760</th>\n",
       "      <td>백신</td>\n",
       "      <td>81</td>\n",
       "    </tr>\n",
       "    <tr>\n",
       "      <th>1523</th>\n",
       "      <td>정치</td>\n",
       "      <td>79</td>\n",
       "    </tr>\n",
       "    <tr>\n",
       "      <th>351</th>\n",
       "      <td>규제</td>\n",
       "      <td>77</td>\n",
       "    </tr>\n",
       "    <tr>\n",
       "      <th>1766</th>\n",
       "      <td>코로나</td>\n",
       "      <td>77</td>\n",
       "    </tr>\n",
       "    <tr>\n",
       "      <th>1181</th>\n",
       "      <td>여당</td>\n",
       "      <td>76</td>\n",
       "    </tr>\n",
       "    <tr>\n",
       "      <th>1315</th>\n",
       "      <td>의혹</td>\n",
       "      <td>72</td>\n",
       "    </tr>\n",
       "    <tr>\n",
       "      <th>488</th>\n",
       "      <td>당</td>\n",
       "      <td>70</td>\n",
       "    </tr>\n",
       "    <tr>\n",
       "      <th>111</th>\n",
       "      <td>靑</td>\n",
       "      <td>68</td>\n",
       "    </tr>\n",
       "    <tr>\n",
       "      <th>1418</th>\n",
       "      <td>장관</td>\n",
       "      <td>67</td>\n",
       "    </tr>\n",
       "    <tr>\n",
       "      <th>1879</th>\n",
       "      <td>한</td>\n",
       "      <td>66</td>\n",
       "    </tr>\n",
       "    <tr>\n",
       "      <th>424</th>\n",
       "      <td>나라</td>\n",
       "      <td>62</td>\n",
       "    </tr>\n",
       "    <tr>\n",
       "      <th>339</th>\n",
       "      <td>국회</td>\n",
       "      <td>60</td>\n",
       "    </tr>\n",
       "    <tr>\n",
       "      <th>1317</th>\n",
       "      <td>이</td>\n",
       "      <td>58</td>\n",
       "    </tr>\n",
       "    <tr>\n",
       "      <th>647</th>\n",
       "      <td>명</td>\n",
       "      <td>58</td>\n",
       "    </tr>\n",
       "    <tr>\n",
       "      <th>28</th>\n",
       "      <td>4</td>\n",
       "      <td>56</td>\n",
       "    </tr>\n",
       "  </tbody>\n",
       "</table>\n",
       "</div>"
      ],
      "text/plain": [
       "       단어   빈도\n",
       "86      文  139\n",
       "1502   정권  139\n",
       "103     與  136\n",
       "393    기업  135\n",
       "1057   수사  108\n",
       "749    방역  103\n",
       "545    대책  102\n",
       "963    선거   98\n",
       "230    경제   97\n",
       "75      北   95\n",
       "1884   한국   94\n",
       "1521   정책   89\n",
       "198    검찰   85\n",
       "819   부동산   85\n",
       "1262   위기   84\n",
       "760    백신   81\n",
       "1523   정치   79\n",
       "351    규제   77\n",
       "1766  코로나   77\n",
       "1181   여당   76\n",
       "1315   의혹   72\n",
       "488     당   70\n",
       "111     靑   68\n",
       "1418   장관   67\n",
       "1879    한   66\n",
       "424    나라   62\n",
       "339    국회   60\n",
       "1317    이   58\n",
       "647     명   58\n",
       "28      4   56"
      ]
     },
     "execution_count": 101,
     "metadata": {},
     "output_type": "execute_result"
    }
   ],
   "source": [
    "word_count.sort_values('빈도', ascending=False).head(30)"
   ]
  },
  {
   "cell_type": "markdown",
   "id": "iraqi-humanitarian",
   "metadata": {},
   "source": [
    "- 진보 신문사 단어구름"
   ]
  },
  {
   "cell_type": "code",
   "execution_count": 102,
   "id": "typical-chance",
   "metadata": {},
   "outputs": [],
   "source": [
    "left = df[df['성향']==0]\n",
    "left.reset_index(drop=True, inplace=True)"
   ]
  },
  {
   "cell_type": "code",
   "execution_count": 103,
   "id": "foster-burns",
   "metadata": {
    "scrolled": true
   },
   "outputs": [],
   "source": [
    "tdm3 = cv.fit_transform(left.loc[:,'기사'])"
   ]
  },
  {
   "cell_type": "code",
   "execution_count": 104,
   "id": "individual-pattern",
   "metadata": {},
   "outputs": [],
   "source": [
    "word_count = pd.DataFrame({\n",
    "    '단어': cv.get_feature_names(),\n",
    "    '빈도': tdm3.sum(axis=0).flat\n",
    "})\n",
    "\n",
    "word_count.sort_values('빈도', ascending=False)\n",
    "count_dic = word_count.set_index('단어')['빈도'].to_dict()"
   ]
  },
  {
   "cell_type": "code",
   "execution_count": 105,
   "id": "acknowledged-perry",
   "metadata": {},
   "outputs": [
    {
     "data": {
      "image/png": "[encoded data removed]",
      "text/plain": [
       "<PIL.Image.Image image mode=RGB size=400x300 at 0x233D5E82E80>"
      ]
     },
     "execution_count": 105,
     "metadata": {},
     "output_type": "execute_result"
    }
   ],
   "source": [
    "wc = WordCloud(font_path='C:/Windows/Fonts/NanumGothic.ttf',\n",
    "               background_color='white',\n",
    "               max_words=100,\n",
    "               width=400, height=300)\n",
    "cloud = wc.generate_from_frequencies(count_dic)\n",
    "cloud.to_image()"
   ]
  },
  {
   "cell_type": "code",
   "execution_count": 106,
   "id": "conscious-nerve",
   "metadata": {
    "scrolled": true
   },
   "outputs": [
    {
     "data": {
      "text/html": [
       "<div>\n",
       "<style scoped>\n",
       "    .dataframe tbody tr th:only-of-type {\n",
       "        vertical-align: middle;\n",
       "    }\n",
       "\n",
       "    .dataframe tbody tr th {\n",
       "        vertical-align: top;\n",
       "    }\n",
       "\n",
       "    .dataframe thead th {\n",
       "        text-align: right;\n",
       "    }\n",
       "</style>\n",
       "<table border=\"1\" class=\"dataframe\">\n",
       "  <thead>\n",
       "    <tr style=\"text-align: right;\">\n",
       "      <th></th>\n",
       "      <th>단어</th>\n",
       "      <th>빈도</th>\n",
       "    </tr>\n",
       "  </thead>\n",
       "  <tbody>\n",
       "    <tr>\n",
       "      <th>748</th>\n",
       "      <td>방역</td>\n",
       "      <td>109</td>\n",
       "    </tr>\n",
       "    <tr>\n",
       "      <th>471</th>\n",
       "      <td>당</td>\n",
       "      <td>107</td>\n",
       "    </tr>\n",
       "    <tr>\n",
       "      <th>555</th>\n",
       "      <td>대책</td>\n",
       "      <td>106</td>\n",
       "    </tr>\n",
       "    <tr>\n",
       "      <th>1872</th>\n",
       "      <td>필요</td>\n",
       "      <td>90</td>\n",
       "    </tr>\n",
       "    <tr>\n",
       "      <th>173</th>\n",
       "      <td>검찰</td>\n",
       "      <td>78</td>\n",
       "    </tr>\n",
       "    <tr>\n",
       "      <th>324</th>\n",
       "      <td>국회</td>\n",
       "      <td>76</td>\n",
       "    </tr>\n",
       "    <tr>\n",
       "      <th>698</th>\n",
       "      <td>미국</td>\n",
       "      <td>76</td>\n",
       "    </tr>\n",
       "    <tr>\n",
       "      <th>1285</th>\n",
       "      <td>위기</td>\n",
       "      <td>74</td>\n",
       "    </tr>\n",
       "    <tr>\n",
       "      <th>844</th>\n",
       "      <td>북한</td>\n",
       "      <td>73</td>\n",
       "    </tr>\n",
       "    <tr>\n",
       "      <th>1053</th>\n",
       "      <td>수사</td>\n",
       "      <td>72</td>\n",
       "    </tr>\n",
       "    <tr>\n",
       "      <th>767</th>\n",
       "      <td>백신</td>\n",
       "      <td>70</td>\n",
       "    </tr>\n",
       "    <tr>\n",
       "      <th>713</th>\n",
       "      <td>민주당</td>\n",
       "      <td>69</td>\n",
       "    </tr>\n",
       "    <tr>\n",
       "      <th>1777</th>\n",
       "      <td>코로나</td>\n",
       "      <td>67</td>\n",
       "    </tr>\n",
       "    <tr>\n",
       "      <th>1611</th>\n",
       "      <td>중국</td>\n",
       "      <td>65</td>\n",
       "    </tr>\n",
       "    <tr>\n",
       "      <th>1440</th>\n",
       "      <td>재난</td>\n",
       "      <td>64</td>\n",
       "    </tr>\n",
       "    <tr>\n",
       "      <th>291</th>\n",
       "      <td>광화문</td>\n",
       "      <td>63</td>\n",
       "    </tr>\n",
       "    <tr>\n",
       "      <th>686</th>\n",
       "      <td>문</td>\n",
       "      <td>63</td>\n",
       "    </tr>\n",
       "    <tr>\n",
       "      <th>1324</th>\n",
       "      <td>의</td>\n",
       "      <td>61</td>\n",
       "    </tr>\n",
       "    <tr>\n",
       "      <th>550</th>\n",
       "      <td>대응</td>\n",
       "      <td>59</td>\n",
       "    </tr>\n",
       "    <tr>\n",
       "      <th>1094</th>\n",
       "      <td>시장</td>\n",
       "      <td>59</td>\n",
       "    </tr>\n",
       "    <tr>\n",
       "      <th>1357</th>\n",
       "      <td>이유</td>\n",
       "      <td>58</td>\n",
       "    </tr>\n",
       "    <tr>\n",
       "      <th>19</th>\n",
       "      <td>4</td>\n",
       "      <td>57</td>\n",
       "    </tr>\n",
       "    <tr>\n",
       "      <th>1041</th>\n",
       "      <td>속</td>\n",
       "      <td>57</td>\n",
       "    </tr>\n",
       "    <tr>\n",
       "      <th>1888</th>\n",
       "      <td>한국</td>\n",
       "      <td>56</td>\n",
       "    </tr>\n",
       "    <tr>\n",
       "      <th>218</th>\n",
       "      <td>계기</td>\n",
       "      <td>55</td>\n",
       "    </tr>\n",
       "    <tr>\n",
       "      <th>1343</th>\n",
       "      <td>이</td>\n",
       "      <td>53</td>\n",
       "    </tr>\n",
       "    <tr>\n",
       "      <th>688</th>\n",
       "      <td>문제</td>\n",
       "      <td>53</td>\n",
       "    </tr>\n",
       "    <tr>\n",
       "      <th>1339</th>\n",
       "      <td>의혹</td>\n",
       "      <td>52</td>\n",
       "    </tr>\n",
       "    <tr>\n",
       "      <th>1960</th>\n",
       "      <td>확산</td>\n",
       "      <td>50</td>\n",
       "    </tr>\n",
       "    <tr>\n",
       "      <th>1263</th>\n",
       "      <td>우려</td>\n",
       "      <td>50</td>\n",
       "    </tr>\n",
       "  </tbody>\n",
       "</table>\n",
       "</div>"
      ],
      "text/plain": [
       "       단어   빈도\n",
       "748    방역  109\n",
       "471     당  107\n",
       "555    대책  106\n",
       "1872   필요   90\n",
       "173    검찰   78\n",
       "324    국회   76\n",
       "698    미국   76\n",
       "1285   위기   74\n",
       "844    북한   73\n",
       "1053   수사   72\n",
       "767    백신   70\n",
       "713   민주당   69\n",
       "1777  코로나   67\n",
       "1611   중국   65\n",
       "1440   재난   64\n",
       "291   광화문   63\n",
       "686     문   63\n",
       "1324    의   61\n",
       "550    대응   59\n",
       "1094   시장   59\n",
       "1357   이유   58\n",
       "19      4   57\n",
       "1041    속   57\n",
       "1888   한국   56\n",
       "218    계기   55\n",
       "1343    이   53\n",
       "688    문제   53\n",
       "1339   의혹   52\n",
       "1960   확산   50\n",
       "1263   우려   50"
      ]
     },
     "execution_count": 106,
     "metadata": {},
     "output_type": "execute_result"
    }
   ],
   "source": [
    "word_count.sort_values('빈도', ascending=False).head(30)"
   ]
  },
  {
   "cell_type": "markdown",
   "id": "under-bathroom",
   "metadata": {},
   "source": [
    "# <font color='CC3D3D'>감성 분석"
   ]
  },
  {
   "cell_type": "code",
   "execution_count": 107,
   "id": "fifteen-yeast",
   "metadata": {},
   "outputs": [],
   "source": [
    "x = tdm1\n",
    "y = df['성향'].values"
   ]
  },
  {
   "cell_type": "code",
   "execution_count": 108,
   "id": "impressed-timer",
   "metadata": {},
   "outputs": [],
   "source": [
    "x_train, x_test, y_train, y_test = train_test_split(x, y, test_size=0.2, random_state=777)"
   ]
  },
  {
   "cell_type": "code",
   "execution_count": 109,
   "id": "blond-coral",
   "metadata": {},
   "outputs": [],
   "source": [
    "model = tf.keras.models.Sequential()\n",
    "model.add(tf.keras.layers.Dense(1, activation='sigmoid'))\n",
    "model.compile(optimizer='adam', loss='binary_crossentropy', metrics=['accuracy'])"
   ]
  },
  {
   "cell_type": "code",
   "execution_count": 110,
   "id": "integral-bowling",
   "metadata": {
    "scrolled": true
   },
   "outputs": [
    {
     "name": "stdout",
     "output_type": "stream",
     "text": [
      "Epoch 1/3\n",
      "212/212 [==============================] - 1s 3ms/step - loss: 0.6906 - accuracy: 0.5370\n",
      "Epoch 2/3\n",
      "212/212 [==============================] - 1s 3ms/step - loss: 0.6675 - accuracy: 0.6770\n",
      "Epoch 3/3\n",
      "212/212 [==============================] - 1s 3ms/step - loss: 0.6486 - accuracy: 0.7262\n"
     ]
    },
    {
     "data": {
      "text/plain": [
       "<tensorflow.python.keras.callbacks.History at 0x233c79decd0>"
      ]
     },
     "execution_count": 110,
     "metadata": {},
     "output_type": "execute_result"
    }
   ],
   "source": [
    "model.fit(x_train.A, y_train, epochs=3)"
   ]
  },
  {
   "cell_type": "code",
   "execution_count": 111,
   "id": "brazilian-sherman",
   "metadata": {},
   "outputs": [
    {
     "name": "stdout",
     "output_type": "stream",
     "text": [
      "53/53 [==============================] - 0s 2ms/step - loss: 0.6524 - accuracy: 0.6673\n"
     ]
    },
    {
     "data": {
      "text/plain": [
       "[0.6523794531822205, 0.6672576665878296]"
      ]
     },
     "execution_count": 111,
     "metadata": {},
     "output_type": "execute_result"
    }
   ],
   "source": [
    "model.evaluate(x_test.A, y_test)"
   ]
  },
  {
   "cell_type": "code",
   "execution_count": 119,
   "id": "manufactured-relaxation",
   "metadata": {
    "collapsed": true
   },
   "outputs": [
    {
     "data": {
      "text/html": [
       "<div>\n",
       "<style scoped>\n",
       "    .dataframe tbody tr th:only-of-type {\n",
       "        vertical-align: middle;\n",
       "    }\n",
       "\n",
       "    .dataframe tbody tr th {\n",
       "        vertical-align: top;\n",
       "    }\n",
       "\n",
       "    .dataframe thead th {\n",
       "        text-align: right;\n",
       "    }\n",
       "</style>\n",
       "<table border=\"1\" class=\"dataframe\">\n",
       "  <thead>\n",
       "    <tr style=\"text-align: right;\">\n",
       "      <th></th>\n",
       "      <th>토큰</th>\n",
       "      <th>가중치</th>\n",
       "    </tr>\n",
       "  </thead>\n",
       "  <tbody>\n",
       "    <tr>\n",
       "      <th>291</th>\n",
       "      <td>괴물</td>\n",
       "      <td>-0.319028</td>\n",
       "    </tr>\n",
       "    <tr>\n",
       "      <th>1872</th>\n",
       "      <td>필요성</td>\n",
       "      <td>-0.220127</td>\n",
       "    </tr>\n",
       "    <tr>\n",
       "      <th>828</th>\n",
       "      <td>분노</td>\n",
       "      <td>-0.197984</td>\n",
       "    </tr>\n",
       "    <tr>\n",
       "      <th>1908</th>\n",
       "      <td>해결</td>\n",
       "      <td>-0.194457</td>\n",
       "    </tr>\n",
       "    <tr>\n",
       "      <th>71</th>\n",
       "      <td>巨與</td>\n",
       "      <td>-0.187081</td>\n",
       "    </tr>\n",
       "    <tr>\n",
       "      <th>213</th>\n",
       "      <td>계속</td>\n",
       "      <td>-0.187041</td>\n",
       "    </tr>\n",
       "    <tr>\n",
       "      <th>1044</th>\n",
       "      <td>수사권</td>\n",
       "      <td>-0.179908</td>\n",
       "    </tr>\n",
       "    <tr>\n",
       "      <th>1897</th>\n",
       "      <td>한심</td>\n",
       "      <td>-0.169354</td>\n",
       "    </tr>\n",
       "    <tr>\n",
       "      <th>1920</th>\n",
       "      <td>행위</td>\n",
       "      <td>-0.165257</td>\n",
       "    </tr>\n",
       "    <tr>\n",
       "      <th>1155</th>\n",
       "      <td>언행</td>\n",
       "      <td>-0.163001</td>\n",
       "    </tr>\n",
       "    <tr>\n",
       "      <th>1107</th>\n",
       "      <td>실질</td>\n",
       "      <td>-0.161981</td>\n",
       "    </tr>\n",
       "    <tr>\n",
       "      <th>1766</th>\n",
       "      <td>침해</td>\n",
       "      <td>-0.160743</td>\n",
       "    </tr>\n",
       "    <tr>\n",
       "      <th>1453</th>\n",
       "      <td>적</td>\n",
       "      <td>-0.156408</td>\n",
       "    </tr>\n",
       "    <tr>\n",
       "      <th>913</th>\n",
       "      <td>산업부</td>\n",
       "      <td>-0.156100</td>\n",
       "    </tr>\n",
       "    <tr>\n",
       "      <th>1941</th>\n",
       "      <td>협상</td>\n",
       "      <td>-0.155418</td>\n",
       "    </tr>\n",
       "    <tr>\n",
       "      <th>125</th>\n",
       "      <td>감염…</td>\n",
       "      <td>-0.154698</td>\n",
       "    </tr>\n",
       "    <tr>\n",
       "      <th>1964</th>\n",
       "      <td>확진자</td>\n",
       "      <td>-0.151809</td>\n",
       "    </tr>\n",
       "    <tr>\n",
       "      <th>495</th>\n",
       "      <td>당선인</td>\n",
       "      <td>-0.150377</td>\n",
       "    </tr>\n",
       "    <tr>\n",
       "      <th>674</th>\n",
       "      <td>문화</td>\n",
       "      <td>-0.150143</td>\n",
       "    </tr>\n",
       "    <tr>\n",
       "      <th>1732</th>\n",
       "      <td>최소한</td>\n",
       "      <td>-0.150119</td>\n",
       "    </tr>\n",
       "  </tbody>\n",
       "</table>\n",
       "</div>"
      ],
      "text/plain": [
       "       토큰       가중치\n",
       "291    괴물 -0.319028\n",
       "1872  필요성 -0.220127\n",
       "828    분노 -0.197984\n",
       "1908   해결 -0.194457\n",
       "71     巨與 -0.187081\n",
       "213    계속 -0.187041\n",
       "1044  수사권 -0.179908\n",
       "1897   한심 -0.169354\n",
       "1920   행위 -0.165257\n",
       "1155   언행 -0.163001\n",
       "1107   실질 -0.161981\n",
       "1766   침해 -0.160743\n",
       "1453    적 -0.156408\n",
       "913   산업부 -0.156100\n",
       "1941   협상 -0.155418\n",
       "125   감염… -0.154698\n",
       "1964  확진자 -0.151809\n",
       "495   당선인 -0.150377\n",
       "674    문화 -0.150143\n",
       "1732  최소한 -0.150119"
      ]
     },
     "metadata": {},
     "output_type": "display_data"
    },
    {
     "data": {
      "text/html": [
       "<div>\n",
       "<style scoped>\n",
       "    .dataframe tbody tr th:only-of-type {\n",
       "        vertical-align: middle;\n",
       "    }\n",
       "\n",
       "    .dataframe tbody tr th {\n",
       "        vertical-align: top;\n",
       "    }\n",
       "\n",
       "    .dataframe thead th {\n",
       "        text-align: right;\n",
       "    }\n",
       "</style>\n",
       "<table border=\"1\" class=\"dataframe\">\n",
       "  <thead>\n",
       "    <tr style=\"text-align: right;\">\n",
       "      <th></th>\n",
       "      <th>토큰</th>\n",
       "      <th>가중치</th>\n",
       "    </tr>\n",
       "  </thead>\n",
       "  <tbody>\n",
       "    <tr>\n",
       "      <th>69</th>\n",
       "      <td>南</td>\n",
       "      <td>0.167239</td>\n",
       "    </tr>\n",
       "    <tr>\n",
       "      <th>87</th>\n",
       "      <td>與野</td>\n",
       "      <td>0.168951</td>\n",
       "    </tr>\n",
       "    <tr>\n",
       "      <th>1166</th>\n",
       "      <td>에</td>\n",
       "      <td>0.176758</td>\n",
       "    </tr>\n",
       "    <tr>\n",
       "      <th>1835</th>\n",
       "      <td>평가</td>\n",
       "      <td>0.181583</td>\n",
       "    </tr>\n",
       "    <tr>\n",
       "      <th>984</th>\n",
       "      <td>세경제</td>\n",
       "      <td>0.187221</td>\n",
       "    </tr>\n",
       "    <tr>\n",
       "      <th>1384</th>\n",
       "      <td>일정</td>\n",
       "      <td>0.193228</td>\n",
       "    </tr>\n",
       "    <tr>\n",
       "      <th>751</th>\n",
       "      <td>배제</td>\n",
       "      <td>0.193602</td>\n",
       "    </tr>\n",
       "    <tr>\n",
       "      <th>90</th>\n",
       "      <td>野</td>\n",
       "      <td>0.206158</td>\n",
       "    </tr>\n",
       "    <tr>\n",
       "      <th>1000</th>\n",
       "      <td>세월호</td>\n",
       "      <td>0.206819</td>\n",
       "    </tr>\n",
       "    <tr>\n",
       "      <th>62</th>\n",
       "      <td>’</td>\n",
       "      <td>0.216379</td>\n",
       "    </tr>\n",
       "    <tr>\n",
       "      <th>77</th>\n",
       "      <td>核</td>\n",
       "      <td>0.220989</td>\n",
       "    </tr>\n",
       "    <tr>\n",
       "      <th>89</th>\n",
       "      <td>軍</td>\n",
       "      <td>0.235342</td>\n",
       "    </tr>\n",
       "    <tr>\n",
       "      <th>414</th>\n",
       "      <td>낙관</td>\n",
       "      <td>0.235459</td>\n",
       "    </tr>\n",
       "    <tr>\n",
       "      <th>386</th>\n",
       "      <td>기재부</td>\n",
       "      <td>0.247730</td>\n",
       "    </tr>\n",
       "    <tr>\n",
       "      <th>88</th>\n",
       "      <td>親文</td>\n",
       "      <td>0.248632</td>\n",
       "    </tr>\n",
       "    <tr>\n",
       "      <th>81</th>\n",
       "      <td>秋</td>\n",
       "      <td>0.263154</td>\n",
       "    </tr>\n",
       "    <tr>\n",
       "      <th>1511</th>\n",
       "      <td>정리</td>\n",
       "      <td>0.274257</td>\n",
       "    </tr>\n",
       "    <tr>\n",
       "      <th>66</th>\n",
       "      <td>前</td>\n",
       "      <td>0.277644</td>\n",
       "    </tr>\n",
       "    <tr>\n",
       "      <th>72</th>\n",
       "      <td>思見</td>\n",
       "      <td>0.326468</td>\n",
       "    </tr>\n",
       "    <tr>\n",
       "      <th>84</th>\n",
       "      <td>美·中</td>\n",
       "      <td>0.381188</td>\n",
       "    </tr>\n",
       "  </tbody>\n",
       "</table>\n",
       "</div>"
      ],
      "text/plain": [
       "       토큰       가중치\n",
       "69      南  0.167239\n",
       "87     與野  0.168951\n",
       "1166    에  0.176758\n",
       "1835   평가  0.181583\n",
       "984   세경제  0.187221\n",
       "1384   일정  0.193228\n",
       "751    배제  0.193602\n",
       "90      野  0.206158\n",
       "1000  세월호  0.206819\n",
       "62      ’  0.216379\n",
       "77      核  0.220989\n",
       "89      軍  0.235342\n",
       "414    낙관  0.235459\n",
       "386   기재부  0.247730\n",
       "88     親文  0.248632\n",
       "81      秋  0.263154\n",
       "1511   정리  0.274257\n",
       "66      前  0.277644\n",
       "72     思見  0.326468\n",
       "84    美·中  0.381188"
      ]
     },
     "metadata": {},
     "output_type": "display_data"
    }
   ],
   "source": [
    "w, b = model.weights\n",
    "words = cv.get_feature_names()\n",
    "word_sent = pd.DataFrame({'토큰' : words, '가중치' : w.numpy().flat})\n",
    "display(word_sent.sort_values('가중치').head(20))\n",
    "display(word_sent.sort_values('가중치').tail(20))"
   ]
  },
  {
   "cell_type": "code",
   "execution_count": 121,
   "id": "applied-junior",
   "metadata": {},
   "outputs": [],
   "source": [
    "x_coo = x_train.tocoo()\n",
    "index = np.column_stack([x_coo.row, x_coo.col])\n",
    "x_train_sparse = tf.SparseTensor(index, x_coo.data, x_coo.shape)\n",
    "x_train_sparse = tf.sparse.reorder(x_train_sparse)"
   ]
  },
  {
   "cell_type": "code",
   "execution_count": 122,
   "id": "curious-tribute",
   "metadata": {
    "scrolled": true
   },
   "outputs": [
    {
     "name": "stdout",
     "output_type": "stream",
     "text": [
      "Epoch 1/3\n",
      "212/212 [==============================] - 1s 3ms/step - loss: 0.6276 - accuracy: 0.7488\n",
      "Epoch 2/3\n",
      "212/212 [==============================] - 1s 3ms/step - loss: 0.6119 - accuracy: 0.7617\n",
      "Epoch 3/3\n",
      "212/212 [==============================] - 1s 3ms/step - loss: 0.5977 - accuracy: 0.7726\n"
     ]
    },
    {
     "data": {
      "text/plain": [
       "<tensorflow.python.keras.callbacks.History at 0x2356b4619a0>"
      ]
     },
     "execution_count": 122,
     "metadata": {},
     "output_type": "execute_result"
    }
   ],
   "source": [
    "model.fit(x_train_sparse, y_train, epochs=3)"
   ]
  },
  {
   "cell_type": "code",
   "execution_count": 123,
   "id": "random-newspaper",
   "metadata": {
    "scrolled": true
   },
   "outputs": [
    {
     "name": "stdout",
     "output_type": "stream",
     "text": [
      "Epoch 1/100\n",
      "191/191 [==============================] - 1s 3ms/step - loss: 0.5852 - accuracy: 0.7831 - val_loss: 0.5819 - val_accuracy: 0.7607\n",
      "Epoch 2/100\n",
      "191/191 [==============================] - 1s 3ms/step - loss: 0.5739 - accuracy: 0.7881 - val_loss: 0.5770 - val_accuracy: 0.7563\n",
      "Epoch 3/100\n",
      "191/191 [==============================] - 1s 3ms/step - loss: 0.5636 - accuracy: 0.7887 - val_loss: 0.5727 - val_accuracy: 0.7578\n",
      "Epoch 4/100\n",
      "191/191 [==============================] - 1s 3ms/step - loss: 0.5539 - accuracy: 0.7946 - val_loss: 0.5689 - val_accuracy: 0.7518\n",
      "Epoch 5/100\n",
      "191/191 [==============================] - 1s 3ms/step - loss: 0.5449 - accuracy: 0.7976 - val_loss: 0.5655 - val_accuracy: 0.7459\n",
      "Epoch 6/100\n",
      "191/191 [==============================] - 1s 3ms/step - loss: 0.5366 - accuracy: 0.7992 - val_loss: 0.5625 - val_accuracy: 0.7415\n",
      "Epoch 7/100\n",
      "191/191 [==============================] - 1s 3ms/step - loss: 0.5288 - accuracy: 0.7992 - val_loss: 0.5600 - val_accuracy: 0.7430\n",
      "Epoch 8/100\n",
      "191/191 [==============================] - 1s 3ms/step - loss: 0.5215 - accuracy: 0.8009 - val_loss: 0.5576 - val_accuracy: 0.7430\n",
      "Epoch 9/100\n",
      "191/191 [==============================] - 1s 3ms/step - loss: 0.5147 - accuracy: 0.8047 - val_loss: 0.5555 - val_accuracy: 0.7415\n",
      "Epoch 10/100\n",
      "191/191 [==============================] - 1s 3ms/step - loss: 0.5082 - accuracy: 0.8066 - val_loss: 0.5537 - val_accuracy: 0.7400\n",
      "Epoch 11/100\n",
      "191/191 [==============================] - 1s 3ms/step - loss: 0.5021 - accuracy: 0.8065 - val_loss: 0.5523 - val_accuracy: 0.7415\n",
      "Epoch 12/100\n",
      "191/191 [==============================] - 1s 3ms/step - loss: 0.4963 - accuracy: 0.8084 - val_loss: 0.5509 - val_accuracy: 0.7386\n",
      "Epoch 13/100\n",
      "191/191 [==============================] - 1s 3ms/step - loss: 0.4909 - accuracy: 0.8086 - val_loss: 0.5499 - val_accuracy: 0.7386\n",
      "Epoch 14/100\n",
      "191/191 [==============================] - 1s 3ms/step - loss: 0.4857 - accuracy: 0.8119 - val_loss: 0.5491 - val_accuracy: 0.7371\n",
      "Epoch 15/100\n",
      "191/191 [==============================] - 1s 3ms/step - loss: 0.4808 - accuracy: 0.8129 - val_loss: 0.5484 - val_accuracy: 0.7326\n",
      "Epoch 16/100\n",
      "191/191 [==============================] - 1s 3ms/step - loss: 0.4761 - accuracy: 0.8135 - val_loss: 0.5480 - val_accuracy: 0.7326\n",
      "Epoch 17/100\n",
      "191/191 [==============================] - 1s 3ms/step - loss: 0.4716 - accuracy: 0.8147 - val_loss: 0.5477 - val_accuracy: 0.7297\n",
      "Epoch 18/100\n",
      "191/191 [==============================] - 1s 3ms/step - loss: 0.4673 - accuracy: 0.8160 - val_loss: 0.5473 - val_accuracy: 0.7297\n",
      "Epoch 19/100\n",
      "191/191 [==============================] - 1s 3ms/step - loss: 0.4632 - accuracy: 0.8176 - val_loss: 0.5470 - val_accuracy: 0.7297\n",
      "Epoch 20/100\n",
      "191/191 [==============================] - 1s 3ms/step - loss: 0.4593 - accuracy: 0.8180 - val_loss: 0.5472 - val_accuracy: 0.7267\n"
     ]
    },
    {
     "data": {
      "text/plain": [
       "<tensorflow.python.keras.callbacks.History at 0x2356b584f40>"
      ]
     },
     "execution_count": 123,
     "metadata": {},
     "output_type": "execute_result"
    }
   ],
   "source": [
    "model.fit(x_train.A, y_train, epochs=100, validation_split=0.1, callbacks=[tf.keras.callbacks.EarlyStopping(monitor='val_loss')])"
   ]
  },
  {
   "cell_type": "code",
   "execution_count": 124,
   "id": "characteristic-durham",
   "metadata": {},
   "outputs": [
    {
     "data": {
      "text/plain": [
       "0.6879432624113475"
      ]
     },
     "execution_count": 124,
     "metadata": {},
     "output_type": "execute_result"
    }
   ],
   "source": [
    "from sklearn.neural_network import MLPClassifier\n",
    "mlp_model = MLPClassifier(random_state=777)\n",
    "\n",
    "pred = mlp_model.fit(x_train, y_train).predict(x_test)\n",
    "accuracy_score(y_test, pred)"
   ]
  },
  {
   "cell_type": "code",
   "execution_count": 125,
   "id": "decimal-archives",
   "metadata": {
    "scrolled": true
   },
   "outputs": [
    {
     "data": {
      "text/plain": [
       "0.6985815602836879"
      ]
     },
     "execution_count": 125,
     "metadata": {},
     "output_type": "execute_result"
    }
   ],
   "source": [
    "from sklearn.svm import SVC\n",
    "svm_model = SVC(random_state=777, kernel = 'rbf', probability=True)\n",
    "\n",
    "pred = svm_model.fit(x_train, y_train).predict(x_test)\n",
    "accuracy_score(y_test, pred)"
   ]
  },
  {
   "cell_type": "code",
   "execution_count": 126,
   "id": "herbal-investing",
   "metadata": {},
   "outputs": [
    {
     "data": {
      "text/plain": [
       "0.6595744680851063"
      ]
     },
     "execution_count": 126,
     "metadata": {},
     "output_type": "execute_result"
    }
   ],
   "source": [
    "from sklearn.tree import DecisionTreeClassifier\n",
    "dt_model = DecisionTreeClassifier(random_state=777)\n",
    "\n",
    "pred = dt_model.fit(x_train, y_train).predict(x_test)\n",
    "accuracy_score(y_test, pred)"
   ]
  },
  {
   "cell_type": "markdown",
   "id": "demanding-coast",
   "metadata": {},
   "source": [
    "# <font color='CC3D3D'>주제 분석"
   ]
  },
  {
   "cell_type": "markdown",
   "id": "reserved-cookie",
   "metadata": {},
   "source": [
    "### 文"
   ]
  },
  {
   "cell_type": "code",
   "execution_count": 151,
   "id": "trying-hunger",
   "metadata": {},
   "outputs": [
    {
     "data": {
      "text/plain": [
       "86"
      ]
     },
     "execution_count": 151,
     "metadata": {},
     "output_type": "execute_result"
    }
   ],
   "source": [
    "svd = TruncatedSVD(n_components = 100, random_state=777)\n",
    "svd.fit_transform(tdm1)\n",
    "word_idx = words.index('與') ;word_idx"
   ]
  },
  {
   "cell_type": "code",
   "execution_count": 152,
   "id": "extensive-mambo",
   "metadata": {},
   "outputs": [
    {
     "data": {
      "text/plain": [
       "[<matplotlib.lines.Line2D at 0x2356bb85fd0>]"
      ]
     },
     "execution_count": 152,
     "metadata": {},
     "output_type": "execute_result"
    },
    {
     "data": {
      "image/png": "[encoded data removed]",
      "text/plain": [
       "<Figure size 432x288 with 1 Axes>"
      ]
     },
     "metadata": {
      "needs_background": "light"
     },
     "output_type": "display_data"
    }
   ],
   "source": [
    "rotator = Rotator()\n",
    "rot = rotator.fit_transform(svd.components_.T)\n",
    "loading = rot.T\n",
    "plt.plot(loading[:, word_idx])"
   ]
  },
  {
   "cell_type": "code",
   "execution_count": 153,
   "id": "excellent-rugby",
   "metadata": {
    "scrolled": false
   },
   "outputs": [
    {
     "data": {
      "text/html": [
       "<div>\n",
       "<style scoped>\n",
       "    .dataframe tbody tr th:only-of-type {\n",
       "        vertical-align: middle;\n",
       "    }\n",
       "\n",
       "    .dataframe tbody tr th {\n",
       "        vertical-align: top;\n",
       "    }\n",
       "\n",
       "    .dataframe thead th {\n",
       "        text-align: right;\n",
       "    }\n",
       "</style>\n",
       "<table border=\"1\" class=\"dataframe\">\n",
       "  <thead>\n",
       "    <tr style=\"text-align: right;\">\n",
       "      <th></th>\n",
       "      <th>word</th>\n",
       "      <th>loading</th>\n",
       "    </tr>\n",
       "  </thead>\n",
       "  <tbody>\n",
       "    <tr>\n",
       "      <th>228</th>\n",
       "      <td>고집</td>\n",
       "      <td>0.041270</td>\n",
       "    </tr>\n",
       "    <tr>\n",
       "      <th>1041</th>\n",
       "      <td>수도권</td>\n",
       "      <td>0.041854</td>\n",
       "    </tr>\n",
       "    <tr>\n",
       "      <th>1943</th>\n",
       "      <td>협치</td>\n",
       "      <td>0.043357</td>\n",
       "    </tr>\n",
       "    <tr>\n",
       "      <th>400</th>\n",
       "      <td>김학</td>\n",
       "      <td>0.044707</td>\n",
       "    </tr>\n",
       "    <tr>\n",
       "      <th>153</th>\n",
       "      <td>개편</td>\n",
       "      <td>0.046625</td>\n",
       "    </tr>\n",
       "    <tr>\n",
       "      <th>694</th>\n",
       "      <td>민심</td>\n",
       "      <td>0.048206</td>\n",
       "    </tr>\n",
       "    <tr>\n",
       "      <th>1684</th>\n",
       "      <td>참담</td>\n",
       "      <td>0.048842</td>\n",
       "    </tr>\n",
       "    <tr>\n",
       "      <th>687</th>\n",
       "      <td>미얀마</td>\n",
       "      <td>0.049103</td>\n",
       "    </tr>\n",
       "    <tr>\n",
       "      <th>655</th>\n",
       "      <td>무능</td>\n",
       "      <td>0.049252</td>\n",
       "    </tr>\n",
       "    <tr>\n",
       "      <th>1550</th>\n",
       "      <td>조선</td>\n",
       "      <td>0.053977</td>\n",
       "    </tr>\n",
       "    <tr>\n",
       "      <th>1936</th>\n",
       "      <td>혈세</td>\n",
       "      <td>0.054961</td>\n",
       "    </tr>\n",
       "    <tr>\n",
       "      <th>1126</th>\n",
       "      <td>아이</td>\n",
       "      <td>0.055114</td>\n",
       "    </tr>\n",
       "    <tr>\n",
       "      <th>1662</th>\n",
       "      <td>집단</td>\n",
       "      <td>0.055668</td>\n",
       "    </tr>\n",
       "    <tr>\n",
       "      <th>138</th>\n",
       "      <td>강화’</td>\n",
       "      <td>0.058781</td>\n",
       "    </tr>\n",
       "    <tr>\n",
       "      <th>77</th>\n",
       "      <td>核</td>\n",
       "      <td>0.059566</td>\n",
       "    </tr>\n",
       "    <tr>\n",
       "      <th>383</th>\n",
       "      <td>기업</td>\n",
       "      <td>0.067496</td>\n",
       "    </tr>\n",
       "    <tr>\n",
       "      <th>845</th>\n",
       "      <td>불안</td>\n",
       "      <td>0.067967</td>\n",
       "    </tr>\n",
       "    <tr>\n",
       "      <th>177</th>\n",
       "      <td>검증</td>\n",
       "      <td>0.069436</td>\n",
       "    </tr>\n",
       "    <tr>\n",
       "      <th>861</th>\n",
       "      <td>비리</td>\n",
       "      <td>0.127827</td>\n",
       "    </tr>\n",
       "    <tr>\n",
       "      <th>89</th>\n",
       "      <td>軍</td>\n",
       "      <td>0.897666</td>\n",
       "    </tr>\n",
       "  </tbody>\n",
       "</table>\n",
       "</div>"
      ],
      "text/plain": [
       "     word   loading\n",
       "228    고집  0.041270\n",
       "1041  수도권  0.041854\n",
       "1943   협치  0.043357\n",
       "400    김학  0.044707\n",
       "153    개편  0.046625\n",
       "694    민심  0.048206\n",
       "1684   참담  0.048842\n",
       "687   미얀마  0.049103\n",
       "655    무능  0.049252\n",
       "1550   조선  0.053977\n",
       "1936   혈세  0.054961\n",
       "1126   아이  0.055114\n",
       "1662   집단  0.055668\n",
       "138   강화’  0.058781\n",
       "77      核  0.059566\n",
       "383    기업  0.067496\n",
       "845    불안  0.067967\n",
       "177    검증  0.069436\n",
       "861    비리  0.127827\n",
       "89      軍  0.897666"
      ]
     },
     "execution_count": 153,
     "metadata": {},
     "output_type": "execute_result"
    }
   ],
   "source": [
    "topic_idx = loading[:, word_idx].argmax()\n",
    "topic = pd.DataFrame({'word':words, 'loading':loading[topic_idx]})\n",
    "topic.sort_values('loading').tail(20)"
   ]
  },
  {
   "cell_type": "code",
   "execution_count": 154,
   "id": "declared-desperate",
   "metadata": {
    "scrolled": true
   },
   "outputs": [
    {
     "data": {
      "text/html": [
       "<div>\n",
       "<style scoped>\n",
       "    .dataframe tbody tr th:only-of-type {\n",
       "        vertical-align: middle;\n",
       "    }\n",
       "\n",
       "    .dataframe tbody tr th {\n",
       "        vertical-align: top;\n",
       "    }\n",
       "\n",
       "    .dataframe thead th {\n",
       "        text-align: right;\n",
       "    }\n",
       "</style>\n",
       "<table border=\"1\" class=\"dataframe\">\n",
       "  <thead>\n",
       "    <tr style=\"text-align: right;\">\n",
       "      <th></th>\n",
       "      <th>與</th>\n",
       "    </tr>\n",
       "    <tr>\n",
       "      <th>신문사</th>\n",
       "      <th></th>\n",
       "    </tr>\n",
       "  </thead>\n",
       "  <tbody>\n",
       "    <tr>\n",
       "      <th>경향신문</th>\n",
       "      <td>0.004219</td>\n",
       "    </tr>\n",
       "    <tr>\n",
       "      <th>동아일보</th>\n",
       "      <td>0.024034</td>\n",
       "    </tr>\n",
       "    <tr>\n",
       "      <th>머니투데이</th>\n",
       "      <td>0.004822</td>\n",
       "    </tr>\n",
       "    <tr>\n",
       "      <th>이데일리</th>\n",
       "      <td>0.004877</td>\n",
       "    </tr>\n",
       "    <tr>\n",
       "      <th>조선일보</th>\n",
       "      <td>0.045724</td>\n",
       "    </tr>\n",
       "    <tr>\n",
       "      <th>중앙일보</th>\n",
       "      <td>0.008831</td>\n",
       "    </tr>\n",
       "    <tr>\n",
       "      <th>프레시안</th>\n",
       "      <td>0.008374</td>\n",
       "    </tr>\n",
       "    <tr>\n",
       "      <th>한겨례</th>\n",
       "      <td>0.003412</td>\n",
       "    </tr>\n",
       "    <tr>\n",
       "      <th>한국경제</th>\n",
       "      <td>0.014984</td>\n",
       "    </tr>\n",
       "  </tbody>\n",
       "</table>\n",
       "</div>"
      ],
      "text/plain": [
       "              與\n",
       "신문사            \n",
       "경향신문   0.004219\n",
       "동아일보   0.024034\n",
       "머니투데이  0.004822\n",
       "이데일리   0.004877\n",
       "조선일보   0.045724\n",
       "중앙일보   0.008831\n",
       "프레시안   0.008374\n",
       "한겨례    0.003412\n",
       "한국경제   0.014984"
      ]
     },
     "execution_count": 154,
     "metadata": {},
     "output_type": "execute_result"
    }
   ],
   "source": [
    "doc_topics = svd.transform(tdm1)\n",
    "doc_topics = doc_topics @ rotator.rotation_\n",
    "newspaper_topic = pd.DataFrame({'신문사' : df.신문사, '與' : doc_topics[:, topic_idx]})\n",
    "newspaper_topic.groupby('신문사').agg('mean')"
   ]
  },
  {
   "cell_type": "markdown",
   "id": "likely-portfolio",
   "metadata": {},
   "source": [
    "### 광화문"
   ]
  },
  {
   "cell_type": "code",
   "execution_count": 155,
   "id": "hispanic-pottery",
   "metadata": {},
   "outputs": [
    {
     "data": {
      "text/plain": [
       "289"
      ]
     },
     "execution_count": 155,
     "metadata": {},
     "output_type": "execute_result"
    }
   ],
   "source": [
    "svd = TruncatedSVD(n_components = 100, random_state=777)\n",
    "svd.fit_transform(tdm1)\n",
    "word_idx = words.index('광화문') ;word_idx"
   ]
  },
  {
   "cell_type": "code",
   "execution_count": 156,
   "id": "allied-cheat",
   "metadata": {},
   "outputs": [
    {
     "data": {
      "text/plain": [
       "[<matplotlib.lines.Line2D at 0x2347e7d9df0>]"
      ]
     },
     "execution_count": 156,
     "metadata": {},
     "output_type": "execute_result"
    },
    {
     "data": {
      "image/png": "[encoded data removed]",
      "text/plain": [
       "<Figure size 432x288 with 1 Axes>"
      ]
     },
     "metadata": {
      "needs_background": "light"
     },
     "output_type": "display_data"
    }
   ],
   "source": [
    "rotator = Rotator()\n",
    "rot = rotator.fit_transform(svd.components_.T)\n",
    "loading = rot.T\n",
    "plt.plot(loading[:, word_idx])"
   ]
  },
  {
   "cell_type": "code",
   "execution_count": 157,
   "id": "every-model",
   "metadata": {
    "scrolled": false
   },
   "outputs": [
    {
     "data": {
      "text/html": [
       "<div>\n",
       "<style scoped>\n",
       "    .dataframe tbody tr th:only-of-type {\n",
       "        vertical-align: middle;\n",
       "    }\n",
       "\n",
       "    .dataframe tbody tr th {\n",
       "        vertical-align: top;\n",
       "    }\n",
       "\n",
       "    .dataframe thead th {\n",
       "        text-align: right;\n",
       "    }\n",
       "</style>\n",
       "<table border=\"1\" class=\"dataframe\">\n",
       "  <thead>\n",
       "    <tr style=\"text-align: right;\">\n",
       "      <th></th>\n",
       "      <th>word</th>\n",
       "      <th>loading</th>\n",
       "    </tr>\n",
       "  </thead>\n",
       "  <tbody>\n",
       "    <tr>\n",
       "      <th>90</th>\n",
       "      <td>野</td>\n",
       "      <td>0.028306</td>\n",
       "    </tr>\n",
       "    <tr>\n",
       "      <th>1327</th>\n",
       "      <td>이건희</td>\n",
       "      <td>0.028546</td>\n",
       "    </tr>\n",
       "    <tr>\n",
       "      <th>1796</th>\n",
       "      <td>통합당</td>\n",
       "      <td>0.029165</td>\n",
       "    </tr>\n",
       "    <tr>\n",
       "      <th>1459</th>\n",
       "      <td>적폐</td>\n",
       "      <td>0.030077</td>\n",
       "    </tr>\n",
       "    <tr>\n",
       "      <th>1571</th>\n",
       "      <td>주</td>\n",
       "      <td>0.030533</td>\n",
       "    </tr>\n",
       "    <tr>\n",
       "      <th>1545</th>\n",
       "      <td>조건</td>\n",
       "      <td>0.032283</td>\n",
       "    </tr>\n",
       "    <tr>\n",
       "      <th>549</th>\n",
       "      <td>대표</td>\n",
       "      <td>0.032454</td>\n",
       "    </tr>\n",
       "    <tr>\n",
       "      <th>1782</th>\n",
       "      <td>탑</td>\n",
       "      <td>0.032917</td>\n",
       "    </tr>\n",
       "    <tr>\n",
       "      <th>1261</th>\n",
       "      <td>위기</td>\n",
       "      <td>0.033124</td>\n",
       "    </tr>\n",
       "    <tr>\n",
       "      <th>379</th>\n",
       "      <td>기생충</td>\n",
       "      <td>0.033225</td>\n",
       "    </tr>\n",
       "    <tr>\n",
       "      <th>1614</th>\n",
       "      <td>지금</td>\n",
       "      <td>0.033375</td>\n",
       "    </tr>\n",
       "    <tr>\n",
       "      <th>656</th>\n",
       "      <td>무더기</td>\n",
       "      <td>0.034221</td>\n",
       "    </tr>\n",
       "    <tr>\n",
       "      <th>1019</th>\n",
       "      <td>소비자</td>\n",
       "      <td>0.034820</td>\n",
       "    </tr>\n",
       "    <tr>\n",
       "      <th>770</th>\n",
       "      <td>변</td>\n",
       "      <td>0.035685</td>\n",
       "    </tr>\n",
       "    <tr>\n",
       "      <th>1933</th>\n",
       "      <td>현실</td>\n",
       "      <td>0.041046</td>\n",
       "    </tr>\n",
       "    <tr>\n",
       "      <th>1822</th>\n",
       "      <td>파행</td>\n",
       "      <td>0.042122</td>\n",
       "    </tr>\n",
       "    <tr>\n",
       "      <th>545</th>\n",
       "      <td>대출</td>\n",
       "      <td>0.051163</td>\n",
       "    </tr>\n",
       "    <tr>\n",
       "      <th>1910</th>\n",
       "      <td>해명</td>\n",
       "      <td>0.112415</td>\n",
       "    </tr>\n",
       "    <tr>\n",
       "      <th>1103</th>\n",
       "      <td>실세</td>\n",
       "      <td>0.127443</td>\n",
       "    </tr>\n",
       "    <tr>\n",
       "      <th>665</th>\n",
       "      <td>무차별</td>\n",
       "      <td>0.940393</td>\n",
       "    </tr>\n",
       "  </tbody>\n",
       "</table>\n",
       "</div>"
      ],
      "text/plain": [
       "     word   loading\n",
       "90      野  0.028306\n",
       "1327  이건희  0.028546\n",
       "1796  통합당  0.029165\n",
       "1459   적폐  0.030077\n",
       "1571    주  0.030533\n",
       "1545   조건  0.032283\n",
       "549    대표  0.032454\n",
       "1782    탑  0.032917\n",
       "1261   위기  0.033124\n",
       "379   기생충  0.033225\n",
       "1614   지금  0.033375\n",
       "656   무더기  0.034221\n",
       "1019  소비자  0.034820\n",
       "770     변  0.035685\n",
       "1933   현실  0.041046\n",
       "1822   파행  0.042122\n",
       "545    대출  0.051163\n",
       "1910   해명  0.112415\n",
       "1103   실세  0.127443\n",
       "665   무차별  0.940393"
      ]
     },
     "execution_count": 157,
     "metadata": {},
     "output_type": "execute_result"
    }
   ],
   "source": [
    "topic_idx = loading[:, word_idx].argmax()\n",
    "topic = pd.DataFrame({'word':words, 'loading':loading[topic_idx]})\n",
    "topic.sort_values('loading').tail(20)"
   ]
  },
  {
   "cell_type": "code",
   "execution_count": 159,
   "id": "alternative-webcam",
   "metadata": {
    "scrolled": true
   },
   "outputs": [
    {
     "data": {
      "text/html": [
       "<div>\n",
       "<style scoped>\n",
       "    .dataframe tbody tr th:only-of-type {\n",
       "        vertical-align: middle;\n",
       "    }\n",
       "\n",
       "    .dataframe tbody tr th {\n",
       "        vertical-align: top;\n",
       "    }\n",
       "\n",
       "    .dataframe thead th {\n",
       "        text-align: right;\n",
       "    }\n",
       "</style>\n",
       "<table border=\"1\" class=\"dataframe\">\n",
       "  <thead>\n",
       "    <tr style=\"text-align: right;\">\n",
       "      <th></th>\n",
       "      <th>광화문</th>\n",
       "    </tr>\n",
       "    <tr>\n",
       "      <th>신문사</th>\n",
       "      <th></th>\n",
       "    </tr>\n",
       "  </thead>\n",
       "  <tbody>\n",
       "    <tr>\n",
       "      <th>경향신문</th>\n",
       "      <td>0.018268</td>\n",
       "    </tr>\n",
       "    <tr>\n",
       "      <th>동아일보</th>\n",
       "      <td>0.007764</td>\n",
       "    </tr>\n",
       "    <tr>\n",
       "      <th>머니투데이</th>\n",
       "      <td>0.002195</td>\n",
       "    </tr>\n",
       "    <tr>\n",
       "      <th>이데일리</th>\n",
       "      <td>0.018273</td>\n",
       "    </tr>\n",
       "    <tr>\n",
       "      <th>조선일보</th>\n",
       "      <td>0.009904</td>\n",
       "    </tr>\n",
       "    <tr>\n",
       "      <th>중앙일보</th>\n",
       "      <td>0.004760</td>\n",
       "    </tr>\n",
       "    <tr>\n",
       "      <th>프레시안</th>\n",
       "      <td>0.032524</td>\n",
       "    </tr>\n",
       "    <tr>\n",
       "      <th>한겨례</th>\n",
       "      <td>0.009113</td>\n",
       "    </tr>\n",
       "    <tr>\n",
       "      <th>한국경제</th>\n",
       "      <td>0.007895</td>\n",
       "    </tr>\n",
       "  </tbody>\n",
       "</table>\n",
       "</div>"
      ],
      "text/plain": [
       "            광화문\n",
       "신문사            \n",
       "경향신문   0.018268\n",
       "동아일보   0.007764\n",
       "머니투데이  0.002195\n",
       "이데일리   0.018273\n",
       "조선일보   0.009904\n",
       "중앙일보   0.004760\n",
       "프레시안   0.032524\n",
       "한겨례    0.009113\n",
       "한국경제   0.007895"
      ]
     },
     "execution_count": 159,
     "metadata": {},
     "output_type": "execute_result"
    }
   ],
   "source": [
    "doc_topics = svd.transform(tdm1)\n",
    "doc_topics = doc_topics @ rotator.rotation_\n",
    "newspaper_topic = pd.DataFrame({'신문사' : df.신문사, '광화문' : doc_topics[:, topic_idx]})\n",
    "newspaper_topic.groupby('신문사').agg('mean')"
   ]
  },
  {
   "cell_type": "markdown",
   "id": "intermediate-nelson",
   "metadata": {},
   "source": [
    "### 정권"
   ]
  },
  {
   "cell_type": "code",
   "execution_count": 167,
   "id": "capital-minister",
   "metadata": {},
   "outputs": [
    {
     "data": {
      "text/plain": [
       "1506"
      ]
     },
     "execution_count": 167,
     "metadata": {},
     "output_type": "execute_result"
    }
   ],
   "source": [
    "svd = TruncatedSVD(n_components = 100, random_state=777)\n",
    "svd.fit_transform(tdm1)\n",
    "word_idx = words.index('정권') ;word_idx"
   ]
  },
  {
   "cell_type": "code",
   "execution_count": 168,
   "id": "changed-visitor",
   "metadata": {},
   "outputs": [
    {
     "data": {
      "text/plain": [
       "[<matplotlib.lines.Line2D at 0x2356b73d580>]"
      ]
     },
     "execution_count": 168,
     "metadata": {},
     "output_type": "execute_result"
    },
    {
     "data": {
      "image/png": "[encoded data removed]",
      "text/plain": [
       "<Figure size 432x288 with 1 Axes>"
      ]
     },
     "metadata": {
      "needs_background": "light"
     },
     "output_type": "display_data"
    }
   ],
   "source": [
    "rotator = Rotator()\n",
    "rot = rotator.fit_transform(svd.components_.T)\n",
    "loading = rot.T\n",
    "plt.plot(loading[:, word_idx])"
   ]
  },
  {
   "cell_type": "code",
   "execution_count": 169,
   "id": "typical-employment",
   "metadata": {
    "scrolled": false
   },
   "outputs": [
    {
     "data": {
      "text/html": [
       "<div>\n",
       "<style scoped>\n",
       "    .dataframe tbody tr th:only-of-type {\n",
       "        vertical-align: middle;\n",
       "    }\n",
       "\n",
       "    .dataframe tbody tr th {\n",
       "        vertical-align: top;\n",
       "    }\n",
       "\n",
       "    .dataframe thead th {\n",
       "        text-align: right;\n",
       "    }\n",
       "</style>\n",
       "<table border=\"1\" class=\"dataframe\">\n",
       "  <thead>\n",
       "    <tr style=\"text-align: right;\">\n",
       "      <th></th>\n",
       "      <th>word</th>\n",
       "      <th>loading</th>\n",
       "    </tr>\n",
       "  </thead>\n",
       "  <tbody>\n",
       "    <tr>\n",
       "      <th>1331</th>\n",
       "      <td>이대로</td>\n",
       "      <td>0.062179</td>\n",
       "    </tr>\n",
       "    <tr>\n",
       "      <th>1339</th>\n",
       "      <td>이상직</td>\n",
       "      <td>0.062273</td>\n",
       "    </tr>\n",
       "    <tr>\n",
       "      <th>319</th>\n",
       "      <td>국정원</td>\n",
       "      <td>0.064701</td>\n",
       "    </tr>\n",
       "    <tr>\n",
       "      <th>1105</th>\n",
       "      <td>실장</td>\n",
       "      <td>0.066514</td>\n",
       "    </tr>\n",
       "    <tr>\n",
       "      <th>1594</th>\n",
       "      <td>중국</td>\n",
       "      <td>0.070273</td>\n",
       "    </tr>\n",
       "    <tr>\n",
       "      <th>202</th>\n",
       "      <td>경제</td>\n",
       "      <td>0.071253</td>\n",
       "    </tr>\n",
       "    <tr>\n",
       "      <th>785</th>\n",
       "      <td>보완책</td>\n",
       "      <td>0.072286</td>\n",
       "    </tr>\n",
       "    <tr>\n",
       "      <th>94</th>\n",
       "      <td>韓美</td>\n",
       "      <td>0.072634</td>\n",
       "    </tr>\n",
       "    <tr>\n",
       "      <th>1506</th>\n",
       "      <td>정권</td>\n",
       "      <td>0.072634</td>\n",
       "    </tr>\n",
       "    <tr>\n",
       "      <th>140</th>\n",
       "      <td>개각</td>\n",
       "      <td>0.073886</td>\n",
       "    </tr>\n",
       "    <tr>\n",
       "      <th>353</th>\n",
       "      <td>글로벌</td>\n",
       "      <td>0.086316</td>\n",
       "    </tr>\n",
       "    <tr>\n",
       "      <th>1471</th>\n",
       "      <td>전력</td>\n",
       "      <td>0.087314</td>\n",
       "    </tr>\n",
       "    <tr>\n",
       "      <th>849</th>\n",
       "      <td>불허</td>\n",
       "      <td>0.091630</td>\n",
       "    </tr>\n",
       "    <tr>\n",
       "      <th>539</th>\n",
       "      <td>대응’</td>\n",
       "      <td>0.108861</td>\n",
       "    </tr>\n",
       "    <tr>\n",
       "      <th>228</th>\n",
       "      <td>고집</td>\n",
       "      <td>0.115699</td>\n",
       "    </tr>\n",
       "    <tr>\n",
       "      <th>150</th>\n",
       "      <td>개정</td>\n",
       "      <td>0.116875</td>\n",
       "    </tr>\n",
       "    <tr>\n",
       "      <th>1359</th>\n",
       "      <td>인구감소</td>\n",
       "      <td>0.125201</td>\n",
       "    </tr>\n",
       "    <tr>\n",
       "      <th>1799</th>\n",
       "      <td>투기</td>\n",
       "      <td>0.145928</td>\n",
       "    </tr>\n",
       "    <tr>\n",
       "      <th>590</th>\n",
       "      <td>뒤</td>\n",
       "      <td>0.209193</td>\n",
       "    </tr>\n",
       "    <tr>\n",
       "      <th>1058</th>\n",
       "      <td>수준</td>\n",
       "      <td>0.616538</td>\n",
       "    </tr>\n",
       "  </tbody>\n",
       "</table>\n",
       "</div>"
      ],
      "text/plain": [
       "      word   loading\n",
       "1331   이대로  0.062179\n",
       "1339   이상직  0.062273\n",
       "319    국정원  0.064701\n",
       "1105    실장  0.066514\n",
       "1594    중국  0.070273\n",
       "202     경제  0.071253\n",
       "785    보완책  0.072286\n",
       "94      韓美  0.072634\n",
       "1506    정권  0.072634\n",
       "140     개각  0.073886\n",
       "353    글로벌  0.086316\n",
       "1471    전력  0.087314\n",
       "849     불허  0.091630\n",
       "539    대응’  0.108861\n",
       "228     고집  0.115699\n",
       "150     개정  0.116875\n",
       "1359  인구감소  0.125201\n",
       "1799    투기  0.145928\n",
       "590      뒤  0.209193\n",
       "1058    수준  0.616538"
      ]
     },
     "execution_count": 169,
     "metadata": {},
     "output_type": "execute_result"
    }
   ],
   "source": [
    "topic_idx = loading[:, word_idx].argmax()\n",
    "topic = pd.DataFrame({'word':words, 'loading':loading[topic_idx]})\n",
    "topic.sort_values('loading').tail(20)"
   ]
  },
  {
   "cell_type": "code",
   "execution_count": 163,
   "id": "killing-holiday",
   "metadata": {
    "scrolled": true
   },
   "outputs": [
    {
     "data": {
      "text/html": [
       "<div>\n",
       "<style scoped>\n",
       "    .dataframe tbody tr th:only-of-type {\n",
       "        vertical-align: middle;\n",
       "    }\n",
       "\n",
       "    .dataframe tbody tr th {\n",
       "        vertical-align: top;\n",
       "    }\n",
       "\n",
       "    .dataframe thead th {\n",
       "        text-align: right;\n",
       "    }\n",
       "</style>\n",
       "<table border=\"1\" class=\"dataframe\">\n",
       "  <thead>\n",
       "    <tr style=\"text-align: right;\">\n",
       "      <th></th>\n",
       "      <th>정권</th>\n",
       "    </tr>\n",
       "    <tr>\n",
       "      <th>신문사</th>\n",
       "      <th></th>\n",
       "    </tr>\n",
       "  </thead>\n",
       "  <tbody>\n",
       "    <tr>\n",
       "      <th>경향신문</th>\n",
       "      <td>0.015024</td>\n",
       "    </tr>\n",
       "    <tr>\n",
       "      <th>동아일보</th>\n",
       "      <td>0.000333</td>\n",
       "    </tr>\n",
       "    <tr>\n",
       "      <th>머니투데이</th>\n",
       "      <td>0.000906</td>\n",
       "    </tr>\n",
       "    <tr>\n",
       "      <th>이데일리</th>\n",
       "      <td>0.014681</td>\n",
       "    </tr>\n",
       "    <tr>\n",
       "      <th>조선일보</th>\n",
       "      <td>0.002724</td>\n",
       "    </tr>\n",
       "    <tr>\n",
       "      <th>중앙일보</th>\n",
       "      <td>0.008871</td>\n",
       "    </tr>\n",
       "    <tr>\n",
       "      <th>프레시안</th>\n",
       "      <td>0.005872</td>\n",
       "    </tr>\n",
       "    <tr>\n",
       "      <th>한겨례</th>\n",
       "      <td>0.006144</td>\n",
       "    </tr>\n",
       "    <tr>\n",
       "      <th>한국경제</th>\n",
       "      <td>0.003331</td>\n",
       "    </tr>\n",
       "  </tbody>\n",
       "</table>\n",
       "</div>"
      ],
      "text/plain": [
       "             정권\n",
       "신문사            \n",
       "경향신문   0.015024\n",
       "동아일보   0.000333\n",
       "머니투데이  0.000906\n",
       "이데일리   0.014681\n",
       "조선일보   0.002724\n",
       "중앙일보   0.008871\n",
       "프레시안   0.005872\n",
       "한겨례    0.006144\n",
       "한국경제   0.003331"
      ]
     },
     "execution_count": 163,
     "metadata": {},
     "output_type": "execute_result"
    }
   ],
   "source": [
    "doc_topics = svd.transform(tdm1)\n",
    "doc_topics = doc_topics @ rotator.rotation_\n",
    "newspaper_topic = pd.DataFrame({'신문사' : df.신문사, '정권' : doc_topics[:, topic_idx]})\n",
    "newspaper_topic.groupby('신문사').agg('mean')"
   ]
  }
 ],
 "metadata": {
  "kernelspec": {
   "display_name": "Python 3",
   "language": "python",
   "name": "python3"
  },
  "language_info": {
   "codemirror_mode": {
    "name": "ipython",
    "version": 3
   },
   "file_extension": ".py",
   "mimetype": "text/x-python",
   "name": "python",
   "nbconvert_exporter": "python",
   "pygments_lexer": "ipython3",
   "version": "3.8.8"
  }
 },
 "nbformat": 4,
 "nbformat_minor": 5
}
